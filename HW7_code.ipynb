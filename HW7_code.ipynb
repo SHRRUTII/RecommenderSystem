{
 "cells": [
  {
   "cell_type": "code",
   "execution_count": 25,
   "metadata": {},
   "outputs": [],
   "source": [
    "from surprise import Dataset\n",
    "from surprise import Reader\n",
    "import pandas as pd\n",
    "import os\n",
    "#load data from a file:Ques 3\n",
    "file_path = os.path.expanduser('C:/Users/shrut/Documents/MachineLearning/HW7/restaurant_ratings.txt')\n",
    "reader = Reader(line_format='user item rating timestamp', sep='\\t')\n",
    "data = Dataset.load_from_file(file_path, reader=reader)\n",
    "from surprise.model_selection import cross_validate\n",
    "from surprise import SVD\n",
    "from surprise import NMF\n",
    "from surprise import KNNBasic"
   ]
  },
  {
   "cell_type": "code",
   "execution_count": 26,
   "metadata": {},
   "outputs": [
    {
     "name": "stdout",
     "output_type": "stream",
     "text": [
      "Evaluating RMSE, MAE of algorithm SVD on 3 split(s).\n",
      "\n",
      "                  Fold 1  Fold 2  Fold 3  Mean    Std     \n",
      "RMSE (testset)    0.9493  0.9449  0.9443  0.9462  0.0022  \n",
      "MAE (testset)     0.7479  0.7457  0.7461  0.7466  0.0009  \n",
      "Fit time          7.94    12.40   11.62   10.65   1.94    \n",
      "Test time         0.94    0.74    0.56    0.75    0.16    \n",
      "performance: {'test_rmse': array([0.94928974, 0.94492269, 0.9443126 ]), 'test_mae': array([0.74785239, 0.74566588, 0.7461419 ]), 'fit_time': (7.943101167678833, 12.402147769927979, 11.618081092834473), 'test_time': (0.9430060386657715, 0.7364144325256348, 0.5584747791290283)}\n"
     ]
    }
   ],
   "source": [
    "#SVD:Singular Value Decomposition :Ques:5\n",
    "from surprise.model_selection import cross_validate\n",
    "from surprise import SVD\n",
    "#data.split(n_folds=3)\n",
    "algo = SVD()\n",
    "perf = cross_validate(algo, data, measures=['RMSE', 'MAE'], cv=3, verbose=True)\n",
    "print(\"performance:\",perf)"
   ]
  },
  {
   "cell_type": "code",
   "execution_count": 27,
   "metadata": {},
   "outputs": [
    {
     "name": "stdout",
     "output_type": "stream",
     "text": [
      "Evaluating RMSE, MAE of algorithm SVD on 3 split(s).\n",
      "\n",
      "                  Fold 1  Fold 2  Fold 3  Mean    Std     \n",
      "RMSE (testset)    0.9662  0.9678  0.9673  0.9671  0.0007  \n",
      "MAE (testset)     0.7626  0.7638  0.7627  0.7630  0.0005  \n",
      "Fit time          10.51   10.19   9.39    10.03   0.47    \n",
      "Test time         0.59    0.51    0.78    0.63    0.11    \n",
      "performance: {'test_rmse': array([0.96617731, 0.96780329, 0.96732316]), 'test_mae': array([0.76257104, 0.7638087 , 0.76274897]), 'fit_time': (10.508447170257568, 10.192397594451904, 9.393340349197388), 'test_time': (0.5934872627258301, 0.5117604732513428, 0.7789204120635986)}\n"
     ]
    }
   ],
   "source": [
    "#PMF:Probabilistic Matrix Factorization :Ques 6\n",
    "algo = SVD(biased=False)\n",
    "perf = cross_validate(algo, data, measures=['RMSE', 'MAE'], cv=3, verbose=True)\n",
    "print(\"performance:\",perf)"
   ]
  },
  {
   "cell_type": "code",
   "execution_count": 28,
   "metadata": {},
   "outputs": [
    {
     "name": "stdout",
     "output_type": "stream",
     "text": [
      "Evaluating RMSE, MAE of algorithm NMF on 3 split(s).\n",
      "\n",
      "                  Fold 1  Fold 2  Fold 3  Mean    Std     \n",
      "RMSE (testset)    0.9755  0.9709  0.9743  0.9736  0.0020  \n",
      "MAE (testset)     0.7660  0.7634  0.7651  0.7648  0.0010  \n",
      "Fit time          10.42   10.96   10.87   10.75   0.23    \n",
      "Test time         0.56    0.52    0.53    0.54    0.02    \n",
      "performance: {'test_rmse': array([0.97551282, 0.97086308, 0.97431978]), 'test_mae': array([0.76597137, 0.76344406, 0.76505996]), 'fit_time': (10.4240882396698, 10.955872535705566, 10.867359638214111), 'test_time': (0.5604941844940186, 0.5176279544830322, 0.5272510051727295)}\n"
     ]
    }
   ],
   "source": [
    "#NMF:Non-negative Matrix Factorization :Ques 7\n",
    "from surprise import NMF\n",
    "algo = NMF()\n",
    "perf = cross_validate(algo, data, measures=['RMSE', 'MAE'], cv=3, verbose=True)\n",
    "print(\"performance:\",perf)"
   ]
  },
  {
   "cell_type": "code",
   "execution_count": 29,
   "metadata": {},
   "outputs": [
    {
     "name": "stdout",
     "output_type": "stream",
     "text": [
      "Computing the msd similarity matrix...\n",
      "Done computing similarity matrix.\n",
      "Computing the msd similarity matrix...\n",
      "Done computing similarity matrix.\n",
      "Computing the msd similarity matrix...\n",
      "Done computing similarity matrix.\n",
      "Evaluating RMSE, MAE of algorithm KNNBasic on 3 split(s).\n",
      "\n",
      "                  Fold 1  Fold 2  Fold 3  Mean    Std     \n",
      "RMSE (testset)    0.9876  0.9848  0.9950  0.9891  0.0043  \n",
      "MAE (testset)     0.7803  0.7785  0.7840  0.7810  0.0023  \n",
      "Fit time          0.81    0.85    1.08    0.91    0.12    \n",
      "Test time         14.74   14.02   14.96   14.57   0.40    \n",
      "performance: {'test_rmse': array([0.9875606 , 0.98479621, 0.99504899]), 'test_mae': array([0.7803117 , 0.77850601, 0.78404496]), 'fit_time': (0.8111076354980469, 0.8454422950744629, 1.0822021961212158), 'test_time': (14.737425565719604, 14.019336223602295, 14.961041927337646)}\n"
     ]
    }
   ],
   "source": [
    "#userBased Collaborative FIltering :Ques 8\n",
    "from surprise import KNNBasic\n",
    "algo = KNNBasic(sim_options = {\n",
    "'user_based': True\n",
    "})\n",
    "perf = cross_validate(algo, data, measures=['RMSE', 'MAE'], cv=3, verbose=True)\n",
    "print(\"performance:\",perf)"
   ]
  },
  {
   "cell_type": "code",
   "execution_count": 30,
   "metadata": {},
   "outputs": [
    {
     "name": "stdout",
     "output_type": "stream",
     "text": [
      "Computing the msd similarity matrix...\n",
      "Done computing similarity matrix.\n",
      "Computing the msd similarity matrix...\n",
      "Done computing similarity matrix.\n",
      "Computing the msd similarity matrix...\n",
      "Done computing similarity matrix.\n",
      "Evaluating RMSE, MAE of algorithm KNNBasic on 3 split(s).\n",
      "\n",
      "                  Fold 1  Fold 2  Fold 3  Mean    Std     \n",
      "RMSE (testset)    0.9859  0.9874  0.9862  0.9865  0.0006  \n",
      "MAE (testset)     0.7795  0.7822  0.7820  0.7813  0.0012  \n",
      "Fit time          1.16    1.14    1.25    1.18    0.05    \n",
      "Test time         16.25   15.00   18.01   16.42   1.24    \n",
      "performance: {'test_rmse': array([0.98592696, 0.98736938, 0.98615251]), 'test_mae': array([0.77953986, 0.78221617, 0.78201303]), 'fit_time': (1.1642110347747803, 1.1357357501983643, 1.250988245010376), 'test_time': (16.246106386184692, 14.99910593032837, 18.013235092163086)}\n"
     ]
    }
   ],
   "source": [
    "#ItemBased Collaborative FIltering:Ques :9\n",
    "algo = KNNBasic(sim_options = {\n",
    "'user_based': False\n",
    "})\n",
    "perf = cross_validate(algo, data, measures=['RMSE', 'MAE'], cv=3, verbose=True)\n",
    "print(\"performance:\",perf)"
   ]
  },
  {
   "cell_type": "code",
   "execution_count": 31,
   "metadata": {},
   "outputs": [
    {
     "name": "stdout",
     "output_type": "stream",
     "text": [
      "Evaluating RMSE, MAE of algorithm SVD on 3 split(s).\n",
      "\n",
      "                  Fold 1  Fold 2  Fold 3  Mean    Std     \n",
      "RMSE (testset)    0.9441  0.9487  0.9427  0.9452  0.0025  \n",
      "MAE (testset)     0.7455  0.7472  0.7458  0.7462  0.0007  \n",
      "Fit time          10.63   9.96    10.14   10.24   0.28    \n",
      "Test time         0.53    0.82    0.61    0.65    0.12    \n",
      "performance: {'test_rmse': array([0.94412765, 0.94865444, 0.94274277]), 'test_mae': array([0.74553886, 0.74721863, 0.7458368 ]), 'fit_time': (10.627083539962769, 9.959273099899292, 10.140630006790161), 'test_time': (0.5269284248352051, 0.8198075294494629, 0.6074259281158447)}\n",
      "Evaluating RMSE, MAE of algorithm SVD on 3 split(s).\n",
      "\n",
      "                  Fold 1  Fold 2  Fold 3  Mean    Std     \n",
      "RMSE (testset)    0.9634  0.9726  0.9673  0.9678  0.0038  \n",
      "MAE (testset)     0.7590  0.7666  0.7612  0.7623  0.0032  \n",
      "Fit time          10.30   10.56   9.44    10.10   0.48    \n",
      "Test time         0.54    0.63    0.55    0.58    0.04    \n",
      "performance: {'test_rmse': array([0.96337926, 0.97259843, 0.96731244]), 'test_mae': array([0.75901278, 0.76662465, 0.76120886]), 'fit_time': (10.304421424865723, 10.558198690414429, 9.440660953521729), 'test_time': (0.5446712970733643, 0.6307864189147949, 0.5544900894165039)}\n",
      "Evaluating RMSE, MAE of algorithm NMF on 3 split(s).\n",
      "\n",
      "                  Fold 1  Fold 2  Fold 3  Mean    Std     \n",
      "RMSE (testset)    0.9729  0.9766  0.9794  0.9763  0.0027  \n",
      "MAE (testset)     0.7668  0.7649  0.7695  0.7671  0.0019  \n",
      "Fit time          10.78   11.48   10.67   10.98   0.36    \n",
      "Test time         0.57    0.53    0.45    0.52    0.05    \n",
      "performance: {'test_rmse': array([0.97294742, 0.9766329 , 0.97944979]), 'test_mae': array([0.76683758, 0.7648656 , 0.76949314]), 'fit_time': (10.781188249588013, 11.481393337249756, 10.671337842941284), 'test_time': (0.5700745582580566, 0.5296995639801025, 0.44734764099121094)}\n",
      "Computing the msd similarity matrix...\n",
      "Done computing similarity matrix.\n",
      "Computing the msd similarity matrix...\n",
      "Done computing similarity matrix.\n",
      "Computing the msd similarity matrix...\n",
      "Done computing similarity matrix.\n",
      "Evaluating RMSE, MAE of algorithm KNNBasic on 3 split(s).\n",
      "\n",
      "                  Fold 1  Fold 2  Fold 3  Mean    Std     \n",
      "RMSE (testset)    0.9935  0.9871  0.9872  0.9893  0.0030  \n",
      "MAE (testset)     0.7835  0.7813  0.7803  0.7817  0.0013  \n",
      "Fit time          0.66    0.83    0.91    0.80    0.10    \n",
      "Test time         12.25   13.47   13.66   13.13   0.63    \n",
      "performance: {'test_rmse': array([0.99346227, 0.98707894, 0.98723834]), 'test_mae': array([0.78346618, 0.78132752, 0.7802649 ]), 'fit_time': (0.6609597206115723, 0.8287215232849121, 0.9084701538085938), 'test_time': (12.250488996505737, 13.468333721160889, 13.663475513458252)}\n",
      "Computing the msd similarity matrix...\n",
      "Done computing similarity matrix.\n",
      "Computing the msd similarity matrix...\n",
      "Done computing similarity matrix.\n",
      "Computing the msd similarity matrix...\n",
      "Done computing similarity matrix.\n",
      "Evaluating RMSE, MAE of algorithm KNNBasic on 3 split(s).\n",
      "\n",
      "                  Fold 1  Fold 2  Fold 3  Mean    Std     \n",
      "RMSE (testset)    0.9837  0.9896  0.9830  0.9854  0.0030  \n",
      "MAE (testset)     0.7793  0.7837  0.7791  0.7807  0.0021  \n",
      "Fit time          1.24    1.11    1.56    1.30    0.19    \n",
      "Test time         15.58   16.90   14.97   15.82   0.81    \n",
      "performance: {'test_rmse': array([0.98370726, 0.98957244, 0.98297617]), 'test_mae': array([0.77928592, 0.78366799, 0.77908341]), 'fit_time': (1.242701530456543, 1.109034538269043, 1.563122034072876), 'test_time': (15.575896739959717, 16.903070211410522, 14.974534749984741)}\n"
     ]
    }
   ],
   "source": [
    "#Alternatively for :ques 5 to 9\n",
    "\n",
    "\n",
    "for algo in [SVD(),SVD(biased=False),NMF(),KNNBasic(sim_options = {'user_based': True}),KNNBasic(sim_options = {'user_based': False})]:\n",
    "    perf = cross_validate(algo, data, measures=['RMSE', 'MAE'], cv=3, verbose=True)\n",
    "    print(\"performance:\",perf)"
   ]
  },
  {
   "cell_type": "code",
   "execution_count": 32,
   "metadata": {},
   "outputs": [
    {
     "name": "stdout",
     "output_type": "stream",
     "text": [
      "Evaluating RMSE, MAE of algorithm SVD on 3 split(s).\n",
      "\n",
      "                  Fold 1  Fold 2  Fold 3  Mean    Std     \n",
      "RMSE (testset)    0.9423  0.9478  0.9434  0.9445  0.0023  \n",
      "MAE (testset)     0.7429  0.7480  0.7435  0.7448  0.0023  \n",
      "Fit time          10.26   10.68   10.21   10.38   0.21    \n",
      "Test time         0.67    0.65    0.65    0.65    0.01    \n",
      "performance for fold 1: 0.94234155987591 0.7429016613781866\n",
      "Evaluating RMSE, MAE of algorithm SVD on 3 split(s).\n",
      "\n",
      "                  Fold 1  Fold 2  Fold 3  Mean    Std     \n",
      "RMSE (testset)    0.9681  0.9635  0.9625  0.9647  0.0024  \n",
      "MAE (testset)     0.7634  0.7611  0.7595  0.7613  0.0016  \n",
      "Fit time          10.21   10.64   10.54   10.46   0.19    \n",
      "Test time         0.60    0.49    0.56    0.55    0.05    \n",
      "performance for fold 1: 0.9681312585723308 0.7633638960903772\n",
      "Evaluating RMSE, MAE of algorithm NMF on 3 split(s).\n",
      "\n",
      "                  Fold 1  Fold 2  Fold 3  Mean    Std     \n",
      "RMSE (testset)    0.9746  0.9771  0.9711  0.9743  0.0025  \n",
      "MAE (testset)     0.7655  0.7686  0.7630  0.7657  0.0023  \n",
      "Fit time          11.42   11.07   11.00   11.16   0.19    \n",
      "Test time         0.69    0.61    0.56    0.62    0.05    \n",
      "performance for fold 1: 0.9745551906820084 0.7655413744063241\n",
      "Computing the msd similarity matrix...\n",
      "Done computing similarity matrix.\n",
      "Computing the msd similarity matrix...\n",
      "Done computing similarity matrix.\n",
      "Computing the msd similarity matrix...\n",
      "Done computing similarity matrix.\n",
      "Evaluating RMSE, MAE of algorithm KNNBasic on 3 split(s).\n",
      "\n",
      "                  Fold 1  Fold 2  Fold 3  Mean    Std     \n",
      "RMSE (testset)    0.9911  0.9896  0.9843  0.9883  0.0029  \n",
      "MAE (testset)     0.7852  0.7812  0.7780  0.7815  0.0030  \n",
      "Fit time          0.84    0.89    0.84    0.86    0.02    \n",
      "Test time         12.92   13.24   13.44   13.20   0.21    \n",
      "performance for fold 1: 0.9910788191072218 0.7852213899464343\n",
      "Computing the msd similarity matrix...\n",
      "Done computing similarity matrix.\n",
      "Computing the msd similarity matrix...\n",
      "Done computing similarity matrix.\n",
      "Computing the msd similarity matrix...\n",
      "Done computing similarity matrix.\n",
      "Evaluating RMSE, MAE of algorithm KNNBasic on 3 split(s).\n",
      "\n",
      "                  Fold 1  Fold 2  Fold 3  Mean    Std     \n",
      "RMSE (testset)    0.9862  0.9854  0.9848  0.9855  0.0006  \n",
      "MAE (testset)     0.7803  0.7821  0.7791  0.7805  0.0012  \n",
      "Fit time          1.07    1.11    0.99    1.06    0.05    \n",
      "Test time         15.13   15.93   15.34   15.47   0.34    \n",
      "performance for fold 1: 0.9862451527833667 0.7802915309072428\n"
     ]
    }
   ],
   "source": [
    "#ques 10\n",
    "name=''\n",
    "for algo in [SVD(),SVD(biased=False),NMF(),KNNBasic(sim_options = {'user_based': True}),KNNBasic(sim_options = {'user_based': False})]:\n",
    "    perf = cross_validate(algo, data, measures=['RMSE', 'MAE'], cv=3, verbose=True)\n",
    "    print(\"performance for fold 1:\",perf['test_rmse'][0],perf['test_mae'][0])"
   ]
  },
  {
   "cell_type": "code",
   "execution_count": 33,
   "metadata": {},
   "outputs": [
    {
     "name": "stdout",
     "output_type": "stream",
     "text": [
      "Evaluating RMSE, MAE of algorithm SVD on 3 split(s).\n",
      "\n",
      "                  Fold 1  Fold 2  Fold 3  Mean    Std     \n",
      "RMSE (testset)    0.9440  0.9476  0.9459  0.9459  0.0015  \n",
      "MAE (testset)     0.7458  0.7485  0.7456  0.7466  0.0013  \n",
      "Fit time          10.35   9.29    9.49    9.71    0.46    \n",
      "Test time         0.68    0.66    0.65    0.66    0.01    \n",
      "performance for fold 2: 0.9475976857849865 0.7485220498175604\n",
      "Evaluating RMSE, MAE of algorithm SVD on 3 split(s).\n",
      "\n",
      "                  Fold 1  Fold 2  Fold 3  Mean    Std     \n",
      "RMSE (testset)    0.9632  0.9614  0.9652  0.9633  0.0015  \n",
      "MAE (testset)     0.7617  0.7599  0.7601  0.7605  0.0008  \n",
      "Fit time          9.93    9.50    10.15   9.86    0.27    \n",
      "Test time         0.51    0.46    0.46    0.48    0.02    \n",
      "performance for fold 2: 0.9614497958001235 0.7598606159047078\n",
      "Evaluating RMSE, MAE of algorithm NMF on 3 split(s).\n",
      "\n",
      "                  Fold 1  Fold 2  Fold 3  Mean    Std     \n",
      "RMSE (testset)    0.9709  0.9744  0.9736  0.9730  0.0015  \n",
      "MAE (testset)     0.7617  0.7659  0.7662  0.7646  0.0021  \n",
      "Fit time          10.44   10.58   10.93   10.65   0.21    \n",
      "Test time         0.57    0.42    0.30    0.43    0.11    \n",
      "performance for fold 2: 0.9744332277487107 0.7658926147848293\n",
      "Computing the msd similarity matrix...\n",
      "Done computing similarity matrix.\n",
      "Computing the msd similarity matrix...\n",
      "Done computing similarity matrix.\n",
      "Computing the msd similarity matrix...\n",
      "Done computing similarity matrix.\n",
      "Evaluating RMSE, MAE of algorithm KNNBasic on 3 split(s).\n",
      "\n",
      "                  Fold 1  Fold 2  Fold 3  Mean    Std     \n",
      "RMSE (testset)    0.9876  0.9867  0.9926  0.9889  0.0026  \n",
      "MAE (testset)     0.7799  0.7808  0.7837  0.7814  0.0016  \n",
      "Fit time          0.72    0.94    0.87    0.84    0.09    \n",
      "Test time         12.82   13.76   13.88   13.48   0.47    \n",
      "performance for fold 2: 0.9866741890581991 0.7807628766219881\n",
      "Computing the msd similarity matrix...\n",
      "Done computing similarity matrix.\n",
      "Computing the msd similarity matrix...\n",
      "Done computing similarity matrix.\n",
      "Computing the msd similarity matrix...\n",
      "Done computing similarity matrix.\n",
      "Evaluating RMSE, MAE of algorithm KNNBasic on 3 split(s).\n",
      "\n",
      "                  Fold 1  Fold 2  Fold 3  Mean    Std     \n",
      "RMSE (testset)    0.9814  0.9852  0.9922  0.9863  0.0045  \n",
      "MAE (testset)     0.7782  0.7782  0.7872  0.7812  0.0042  \n",
      "Fit time          0.98    1.13    1.11    1.07    0.06    \n",
      "Test time         15.36   15.09   14.90   15.12   0.19    \n",
      "performance for fold 2: 0.9851675888101005 0.7781944129198889\n"
     ]
    }
   ],
   "source": [
    "#ques 11\n",
    "name=''\n",
    "for algo in [SVD(),SVD(biased=False),NMF(),KNNBasic(sim_options = {'user_based': True}),KNNBasic(sim_options = {'user_based': False})]:\n",
    "    perf = cross_validate(algo, data, measures=['RMSE', 'MAE'], cv=3, verbose=True)\n",
    "    print(\"performance for fold 2:\",perf['test_rmse'][1],perf['test_mae'][1])"
   ]
  },
  {
   "cell_type": "code",
   "execution_count": 34,
   "metadata": {},
   "outputs": [
    {
     "name": "stdout",
     "output_type": "stream",
     "text": [
      "Evaluating RMSE, MAE of algorithm SVD on 3 split(s).\n",
      "\n",
      "                  Fold 1  Fold 2  Fold 3  Mean    Std     \n",
      "RMSE (testset)    0.9477  0.9427  0.9457  0.9454  0.0021  \n",
      "MAE (testset)     0.7501  0.7442  0.7449  0.7464  0.0026  \n",
      "Fit time          10.75   10.46   10.31   10.50   0.18    \n",
      "Test time         0.69    0.95    0.59    0.74    0.15    \n",
      "performance for fold 3: 0.9456935849390059 0.7448535675802671\n",
      "Evaluating RMSE, MAE of algorithm SVD on 3 split(s).\n",
      "\n",
      "                  Fold 1  Fold 2  Fold 3  Mean    Std     \n",
      "RMSE (testset)    0.9735  0.9630  0.9663  0.9676  0.0044  \n",
      "MAE (testset)     0.7672  0.7612  0.7616  0.7634  0.0027  \n",
      "Fit time          10.61   10.26   10.81   10.56   0.23    \n",
      "Test time         0.53    0.60    0.71    0.61    0.07    \n",
      "performance for fold 3: 0.966288584149418 0.7616456644054079\n",
      "Evaluating RMSE, MAE of algorithm NMF on 3 split(s).\n",
      "\n",
      "                  Fold 1  Fold 2  Fold 3  Mean    Std     \n",
      "RMSE (testset)    0.9785  0.9766  0.9779  0.9777  0.0008  \n",
      "MAE (testset)     0.7674  0.7680  0.7697  0.7683  0.0010  \n",
      "Fit time          13.46   12.71   11.54   12.57   0.79    \n",
      "Test time         1.17    0.63    0.66    0.82    0.25    \n",
      "performance for fold 3: 0.9779041700517722 0.7696778680553328\n",
      "Computing the msd similarity matrix...\n",
      "Done computing similarity matrix.\n",
      "Computing the msd similarity matrix...\n",
      "Done computing similarity matrix.\n",
      "Computing the msd similarity matrix...\n",
      "Done computing similarity matrix.\n",
      "Evaluating RMSE, MAE of algorithm KNNBasic on 3 split(s).\n",
      "\n",
      "                  Fold 1  Fold 2  Fold 3  Mean    Std     \n",
      "RMSE (testset)    0.9889  0.9948  0.9830  0.9889  0.0048  \n",
      "MAE (testset)     0.7808  0.7864  0.7781  0.7818  0.0034  \n",
      "Fit time          1.01    0.98    0.81    0.93    0.09    \n",
      "Test time         15.74   15.02   16.48   15.75   0.60    \n",
      "performance for fold 3: 0.9830493928315884 0.7781293336399089\n",
      "Computing the msd similarity matrix...\n",
      "Done computing similarity matrix.\n",
      "Computing the msd similarity matrix...\n",
      "Done computing similarity matrix.\n",
      "Computing the msd similarity matrix...\n",
      "Done computing similarity matrix.\n",
      "Evaluating RMSE, MAE of algorithm KNNBasic on 3 split(s).\n",
      "\n",
      "                  Fold 1  Fold 2  Fold 3  Mean    Std     \n",
      "RMSE (testset)    0.9841  0.9834  0.9912  0.9862  0.0035  \n",
      "MAE (testset)     0.7783  0.7788  0.7867  0.7813  0.0038  \n",
      "Fit time          1.11    1.49    1.24    1.28    0.16    \n",
      "Test time         16.59   20.28   20.04   18.97   1.68    \n",
      "performance for fold 3: 0.9912361050709718 0.7866759381848407\n"
     ]
    }
   ],
   "source": [
    "#ques 12\n",
    "name=''\n",
    "for algo in [SVD(),SVD(biased=False),NMF(),KNNBasic(sim_options = {'user_based': True}),KNNBasic(sim_options = {'user_based': False})]:\n",
    "    perf = cross_validate(algo, data, measures=['RMSE', 'MAE'], cv=3, verbose=True)\n",
    "    print(\"performance for fold 3:\",perf['test_rmse'][2],perf['test_mae'][2])"
   ]
  },
  {
   "cell_type": "code",
   "execution_count": 35,
   "metadata": {},
   "outputs": [
    {
     "name": "stdout",
     "output_type": "stream",
     "text": [
      "Evaluating RMSE, MAE of algorithm SVD on 3 split(s).\n",
      "\n",
      "                  Fold 1  Fold 2  Fold 3  Mean    Std     \n",
      "RMSE (testset)    0.9441  0.9407  0.9462  0.9437  0.0023  \n",
      "MAE (testset)     0.7455  0.7410  0.7477  0.7447  0.0028  \n",
      "Fit time          10.97   11.97   11.19   11.38   0.43    \n",
      "Test time         0.70    0.66    0.89    0.75    0.10    \n",
      "performance for mean value: 0.9436556907427395 0.7447446038466027\n",
      "Evaluating RMSE, MAE of algorithm SVD on 3 split(s).\n",
      "\n",
      "                  Fold 1  Fold 2  Fold 3  Mean    Std     \n",
      "RMSE (testset)    0.9737  0.9643  0.9660  0.9680  0.0041  \n",
      "MAE (testset)     0.7657  0.7591  0.7639  0.7629  0.0028  \n",
      "Fit time          11.14   11.06   11.66   11.29   0.26    \n",
      "Test time         0.56    0.50    0.58    0.55    0.03    \n",
      "performance for mean value: 0.9680220572089521 0.7628788371097341\n",
      "Evaluating RMSE, MAE of algorithm NMF on 3 split(s).\n",
      "\n",
      "                  Fold 1  Fold 2  Fold 3  Mean    Std     \n",
      "RMSE (testset)    0.9676  0.9832  0.9715  0.9741  0.0066  \n",
      "MAE (testset)     0.7600  0.7718  0.7632  0.7650  0.0050  \n",
      "Fit time          12.68   11.13   11.25   11.69   0.71    \n",
      "Test time         0.42    0.57    0.57    0.52    0.07    \n",
      "performance for mean value: 0.9740843860698791 0.7649866447438384\n",
      "Computing the msd similarity matrix...\n",
      "Done computing similarity matrix.\n",
      "Computing the msd similarity matrix...\n",
      "Done computing similarity matrix.\n",
      "Computing the msd similarity matrix...\n",
      "Done computing similarity matrix.\n",
      "Evaluating RMSE, MAE of algorithm KNNBasic on 3 split(s).\n",
      "\n",
      "                  Fold 1  Fold 2  Fold 3  Mean    Std     \n",
      "RMSE (testset)    0.9913  0.9875  0.9887  0.9892  0.0016  \n",
      "MAE (testset)     0.7844  0.7807  0.7807  0.7819  0.0017  \n",
      "Fit time          0.80    0.81    0.83    0.81    0.02    \n",
      "Test time         13.59   13.75   14.38   13.91   0.34    \n",
      "performance for mean value: 0.9891749683156613 0.7819125606278569\n",
      "Computing the msd similarity matrix...\n",
      "Done computing similarity matrix.\n",
      "Computing the msd similarity matrix...\n",
      "Done computing similarity matrix.\n",
      "Computing the msd similarity matrix...\n",
      "Done computing similarity matrix.\n",
      "Evaluating RMSE, MAE of algorithm KNNBasic on 3 split(s).\n",
      "\n",
      "                  Fold 1  Fold 2  Fold 3  Mean    Std     \n",
      "RMSE (testset)    0.9796  0.9953  0.9824  0.9858  0.0068  \n",
      "MAE (testset)     0.7737  0.7875  0.7814  0.7809  0.0057  \n",
      "Fit time          1.19    1.14    1.22    1.19    0.03    \n",
      "Test time         15.72   16.17   17.04   16.31   0.55    \n",
      "performance for mean value: 0.9857808293381635 0.7808739064266534\n"
     ]
    }
   ],
   "source": [
    "#ques 13\n",
    "for algo in [SVD(),SVD(biased=False),NMF(),KNNBasic(sim_options = {'user_based': True}),KNNBasic(sim_options = {'user_based': False})]:\n",
    "    perf = cross_validate(algo, data, measures=['RMSE', 'MAE'], cv=3, verbose=True)\n",
    "    print(\"performance for mean value:\",perf['test_rmse'].mean(),perf['test_mae'].mean())"
   ]
  },
  {
   "cell_type": "code",
   "execution_count": 36,
   "metadata": {},
   "outputs": [
    {
     "name": "stdout",
     "output_type": "stream",
     "text": [
      "Computing the cosine similarity matrix...\n",
      "Done computing similarity matrix.\n",
      "Computing the cosine similarity matrix...\n",
      "Done computing similarity matrix.\n",
      "Computing the cosine similarity matrix...\n",
      "Done computing similarity matrix.\n",
      "Evaluating RMSE, MAE of algorithm KNNBasic on 3 split(s).\n",
      "\n",
      "                  Fold 1  Fold 2  Fold 3  Mean    Std     \n",
      "RMSE (testset)    1.0187  1.0230  1.0212  1.0210  0.0018  \n",
      "MAE (testset)     0.8074  0.8106  0.8071  0.8084  0.0016  \n",
      "Fit time          3.49    3.08    3.23    3.27    0.17    \n",
      "Test time         14.54   17.58   16.49   16.20   1.26    \n",
      "performance_Cosine: {'test_rmse': array([1.01867602, 1.02303182, 1.02115951]), 'test_mae': array([0.8073858 , 0.81061673, 0.80714064]), 'fit_time': (3.491659641265869, 3.0810325145721436, 3.231734037399292), 'test_time': (14.539811372756958, 17.5847589969635, 16.48982286453247)}\n",
      "Computing the msd similarity matrix...\n",
      "Done computing similarity matrix.\n",
      "Computing the msd similarity matrix...\n",
      "Done computing similarity matrix.\n",
      "Computing the msd similarity matrix...\n",
      "Done computing similarity matrix.\n",
      "Evaluating RMSE, MAE of algorithm KNNBasic on 3 split(s).\n",
      "\n",
      "                  Fold 1  Fold 2  Fold 3  Mean    Std     \n",
      "RMSE (testset)    0.9940  0.9883  0.9870  0.9898  0.0031  \n",
      "MAE (testset)     0.7847  0.7836  0.7794  0.7825  0.0023  \n",
      "Fit time          0.92    0.88    0.80    0.87    0.05    \n",
      "Test time         15.56   16.18   14.97   15.57   0.49    \n",
      "performance_MSD: {'test_rmse': array([0.99404904, 0.98832622, 0.98697609]), 'test_mae': array([0.78470057, 0.78356575, 0.77936694]), 'fit_time': (0.9235296249389648, 0.882514476776123, 0.7950754165649414), 'test_time': (15.560284852981567, 16.17528247833252, 14.972198724746704)}\n",
      "Computing the pearson similarity matrix...\n",
      "Done computing similarity matrix.\n",
      "Computing the pearson similarity matrix...\n",
      "Done computing similarity matrix.\n",
      "Computing the pearson similarity matrix...\n",
      "Done computing similarity matrix.\n",
      "Evaluating RMSE, MAE of algorithm KNNBasic on 3 split(s).\n",
      "\n",
      "                  Fold 1  Fold 2  Fold 3  Mean    Std     \n",
      "RMSE (testset)    1.0211  1.0158  1.0201  1.0190  0.0023  \n",
      "MAE (testset)     0.8101  0.8062  0.8126  0.8096  0.0026  \n",
      "Fit time          4.38    4.54    4.05    4.32    0.21    \n",
      "Test time         14.28   15.44   15.84   15.18   0.66    \n",
      "performance_Pearson: {'test_rmse': array([1.02110402, 1.01579432, 1.02006438]), 'test_mae': array([0.81014461, 0.8062194 , 0.81257997]), 'fit_time': (4.384411334991455, 4.538588523864746, 4.047384262084961), 'test_time': (14.2799232006073, 15.437657356262207, 15.837327241897583)}\n"
     ]
    },
    {
     "data": {
      "text/plain": [
       "(0.8083810571624134, 0.7825444225976983, 0.8096479916221396)"
      ]
     },
     "execution_count": 36,
     "metadata": {},
     "output_type": "execute_result"
    }
   ],
   "source": [
    "#Ques:14 part a\n",
    "import matplotlib.pyplot as plt\n",
    "name=''\n",
    "\n",
    "\n",
    "algo1 = KNNBasic(sim_options = {\n",
    "'name':'cosine',\n",
    "'user_based': True\n",
    "})\n",
    "name1=\"Cosine\"\n",
    "perf1 = cross_validate(algo1, data, measures=['RMSE', 'MAE'], cv=3, verbose=True)\n",
    "print(\"performance_Cosine:\",perf1)\n",
    "\n",
    "        \n",
    "algo2 = KNNBasic(sim_options = {\n",
    "'name':'MSD',\n",
    "'user_based': True\n",
    "})\n",
    "name2=\"MSD\"\n",
    "perf2 = cross_validate(algo2, data, measures=['RMSE', 'MAE'], cv=3, verbose=True) \n",
    "print(\"performance_MSD:\",perf2)\n",
    "\n",
    "\n",
    "algo3 = KNNBasic(sim_options = {\n",
    "'name':'pearson',\n",
    "'user_based': True\n",
    "})\n",
    "name3=\"Pearson\"\n",
    "perf3 = cross_validate(algo3, data, measures=['RMSE', 'MAE'], cv=3, verbose=True)\n",
    "print(\"performance_Pearson:\",perf3)\n",
    "\n",
    "data_metrics_ub=(perf1['test_rmse'].mean(),perf2['test_rmse'].mean(),perf3['test_rmse'].mean())\n",
    "data_metrics_ub\n",
    "\n",
    "name=(name1,name2,name3)\n",
    "name\n",
    "\n",
    "data_metrics_mae_ub=(perf1['test_mae'].mean(),perf2['test_mae'].mean(),perf3['test_mae'].mean())\n",
    "data_metrics_mae_ub\n"
   ]
  },
  {
   "cell_type": "code",
   "execution_count": 37,
   "metadata": {},
   "outputs": [
    {
     "name": "stdout",
     "output_type": "stream",
     "text": [
      "Computing the cosine similarity matrix...\n",
      "Done computing similarity matrix.\n",
      "Computing the cosine similarity matrix...\n",
      "Done computing similarity matrix.\n",
      "Computing the cosine similarity matrix...\n",
      "Done computing similarity matrix.\n",
      "Evaluating RMSE, MAE of algorithm KNNBasic on 3 split(s).\n",
      "\n",
      "                  Fold 1  Fold 2  Fold 3  Mean    Std     \n",
      "RMSE (testset)    1.0280  1.0405  1.0393  1.0359  0.0056  \n",
      "MAE (testset)     0.8174  0.8235  0.8270  0.8226  0.0040  \n",
      "Fit time          4.83    5.02    5.11    4.99    0.12    \n",
      "Test time         17.27   17.56   17.45   17.43   0.12    \n",
      "performance_Cosine: {'test_rmse': array([1.02795882, 1.04047358, 1.03930707]), 'test_mae': array([0.81737738, 0.82354991, 0.82696623]), 'fit_time': (4.83263635635376, 5.016435146331787, 5.110534191131592), 'test_time': (17.266335487365723, 17.56450915336609, 17.45363450050354)}\n",
      "Computing the msd similarity matrix...\n",
      "Done computing similarity matrix.\n",
      "Computing the msd similarity matrix...\n",
      "Done computing similarity matrix.\n",
      "Computing the msd similarity matrix...\n",
      "Done computing similarity matrix.\n",
      "Evaluating RMSE, MAE of algorithm KNNBasic on 3 split(s).\n",
      "\n",
      "                  Fold 1  Fold 2  Fold 3  Mean    Std     \n",
      "RMSE (testset)    0.9877  0.9859  0.9833  0.9857  0.0018  \n",
      "MAE (testset)     0.7820  0.7810  0.7795  0.7809  0.0010  \n",
      "Fit time          1.11    1.66    1.24    1.34    0.24    \n",
      "Test time         16.37   17.78   17.77   17.30   0.66    \n",
      "performance_MSD: {'test_rmse': array([0.98773634, 0.98592349, 0.98334952]), 'test_mae': array([0.78203511, 0.78103   , 0.77948536]), 'fit_time': (1.1090309619903564, 1.6638872623443604, 1.2423222064971924), 'test_time': (16.365493535995483, 17.78234887123108, 17.766032934188843)}\n",
      "Computing the pearson similarity matrix...\n",
      "Done computing similarity matrix.\n",
      "Computing the pearson similarity matrix...\n",
      "Done computing similarity matrix.\n",
      "Computing the pearson similarity matrix...\n",
      "Done computing similarity matrix.\n",
      "Evaluating RMSE, MAE of algorithm KNNBasic on 3 split(s).\n",
      "\n",
      "                  Fold 1  Fold 2  Fold 3  Mean    Std     \n",
      "RMSE (testset)    1.0452  1.0528  1.0455  1.0478  0.0035  \n",
      "MAE (testset)     0.8363  0.8418  0.8378  0.8386  0.0023  \n",
      "Fit time          6.35    6.82    6.62    6.60    0.19    \n",
      "Test time         17.78   19.01   17.88   18.23   0.56    \n",
      "performance_Pearson: {'test_rmse': array([1.04520203, 1.05279667, 1.04546709]), 'test_mae': array([0.83628292, 0.84176393, 0.83776038]), 'fit_time': (6.348431348800659, 6.816776752471924, 6.620410680770874), 'test_time': (17.780399322509766, 19.013535499572754, 17.884782791137695)}\n"
     ]
    },
    {
     "data": {
      "text/plain": [
       "(0.822631171705878, 0.7808501555859096, 0.8386024100192894)"
      ]
     },
     "execution_count": 37,
     "metadata": {},
     "output_type": "execute_result"
    }
   ],
   "source": [
    "#Ques 14:part b\n",
    "import matplotlib.pyplot as plt\n",
    "name=''\n",
    "\n",
    "\n",
    "algo1 = KNNBasic(sim_options = {\n",
    "'name':'cosine',\n",
    "'user_based': False\n",
    "})\n",
    "name1=\"Cosine\"\n",
    "perf1 = cross_validate(algo1, data, measures=['RMSE', 'MAE'], cv=3, verbose=True)\n",
    "print(\"performance_Cosine:\",perf1)\n",
    "\n",
    "        \n",
    "algo2 = KNNBasic(sim_options = {\n",
    "'name':'MSD',\n",
    "'user_based': False\n",
    "})\n",
    "name2=\"MSD\"\n",
    "perf2 = cross_validate(algo2, data, measures=['RMSE', 'MAE'], cv=3, verbose=True) \n",
    "print(\"performance_MSD:\",perf2)\n",
    "\n",
    "\n",
    "algo3 = KNNBasic(sim_options = {\n",
    "'name':'pearson',\n",
    "'user_based': False\n",
    "})\n",
    "name3=\"Pearson\"\n",
    "perf3 = cross_validate(algo3, data, measures=['RMSE', 'MAE'], cv=3, verbose=True)\n",
    "print(\"performance_Pearson:\",perf3)\n",
    "\n",
    "data_metrics_ib=(perf1['test_rmse'].mean(),perf2['test_rmse'].mean(),perf3['test_rmse'].mean())\n",
    "data_metrics_ib\n",
    "\n",
    "name=(name1,name2,name3)\n",
    "name\n",
    "\n",
    "data_metrics_mae_ib=(perf1['test_mae'].mean(),perf2['test_mae'].mean(),perf3['test_mae'].mean())\n",
    "data_metrics_mae_ib"
   ]
  },
  {
   "cell_type": "code",
   "execution_count": 38,
   "metadata": {},
   "outputs": [
    {
     "name": "stdout",
     "output_type": "stream",
     "text": [
      "('Cosine', 'MSD', 'Pearson')\n",
      "rmse_ub (1.020955781889752, 0.9897837832411112, 1.018987572518282)\n",
      "rmse_ib (1.035913158508922, 0.985669785429503, 1.0478219287216035)\n"
     ]
    },
    {
     "data": {
      "image/png": "[encoded data removed]",
      "text/plain": [
       "<Figure size 432x288 with 1 Axes>"
      ]
     },
     "metadata": {
      "needs_background": "light"
     },
     "output_type": "display_data"
    }
   ],
   "source": [
    "#plt.savefig(\"C:/Users/shrut/Documents/MachineLearning/HW7/Metrics_RMSE.png\")\n",
    "import numpy as np\n",
    "x = np.arange(3)\n",
    "ax1 = plt.subplot(1,1,1)\n",
    "w = 0.2\n",
    "name=(name1,name2,name3)\n",
    "print(name)\n",
    "print(\"rmse_ub\",data_metrics_ub)\n",
    "print(\"rmse_ib\",data_metrics_ib)\n",
    "    \n",
    "plt.bar(x, data_metrics_ub, w, label='UserBased RMSE')\n",
    "plt.bar(x + w, data_metrics_ib, w,\n",
    "    label='ItemBased RMSE')\n",
    "\n",
    "plt.ylabel('RMSE')\n",
    "plt.title('Metrics for RMSE')\n",
    "\n",
    "plt.xticks(x + w / 2, name,rotation='vertical')\n",
    "plt.legend(loc=7)\n",
    "plt.show()"
   ]
  },
  {
   "cell_type": "code",
   "execution_count": 39,
   "metadata": {},
   "outputs": [
    {
     "name": "stdout",
     "output_type": "stream",
     "text": [
      "('Cosine', 'MSD', 'Pearson')\n",
      "mae_ub (0.8083810571624134, 0.7825444225976983, 0.8096479916221396)\n",
      "mae_ib (0.822631171705878, 0.7808501555859096, 0.8386024100192894)\n"
     ]
    },
    {
     "data": {
      "image/png": "[encoded data removed]",
      "text/plain": [
       "<Figure size 432x288 with 1 Axes>"
      ]
     },
     "metadata": {
      "needs_background": "light"
     },
     "output_type": "display_data"
    }
   ],
   "source": [
    "import numpy as np\n",
    "x = np.arange(3)\n",
    "ax1 = plt.subplot(1,1,1)\n",
    "w = 0.2\n",
    "name=(name1,name2,name3)\n",
    "print(name)\n",
    "print(\"mae_ub\",data_metrics_mae_ub)\n",
    "print(\"mae_ib\",data_metrics_mae_ib)\n",
    "    \n",
    "plt.bar(x, data_metrics_mae_ub, w, label='UserBased MAE')\n",
    "plt.bar(x + w, data_metrics_mae_ib, w,\n",
    "    label='ItemBased MAE')\n",
    "\n",
    "plt.ylabel('MAE')\n",
    "plt.title('Metrics for MAE')\n",
    "\n",
    "plt.xticks(x + w / 2, name)\n",
    "plt.legend(loc=7)\n",
    "plt.show()\n"
   ]
  },
  {
   "cell_type": "code",
   "execution_count": 40,
   "metadata": {},
   "outputs": [
    {
     "name": "stdout",
     "output_type": "stream",
     "text": [
      "Computing the msd similarity matrix...\n",
      "Done computing similarity matrix.\n",
      "Computing the msd similarity matrix...\n",
      "Done computing similarity matrix.\n",
      "Computing the msd similarity matrix...\n",
      "Done computing similarity matrix.\n",
      "Computing the msd similarity matrix...\n",
      "Done computing similarity matrix.\n",
      "Computing the msd similarity matrix...\n",
      "Done computing similarity matrix.\n",
      "Computing the msd similarity matrix...\n",
      "Done computing similarity matrix.\n",
      "Computing the msd similarity matrix...\n",
      "Done computing similarity matrix.\n",
      "Computing the msd similarity matrix...\n",
      "Done computing similarity matrix.\n",
      "Computing the msd similarity matrix...\n",
      "Done computing similarity matrix.\n",
      "Computing the msd similarity matrix...\n",
      "Done computing similarity matrix.\n",
      "Computing the msd similarity matrix...\n",
      "Done computing similarity matrix.\n",
      "Computing the msd similarity matrix...\n",
      "Done computing similarity matrix.\n",
      "Computing the msd similarity matrix...\n",
      "Done computing similarity matrix.\n",
      "Computing the msd similarity matrix...\n",
      "Done computing similarity matrix.\n",
      "Computing the msd similarity matrix...\n",
      "Done computing similarity matrix.\n",
      "                    test_rmse  fit_time  test_time\n",
      "Algorithm                                         \n",
      "Kvalue_25_KNNBasic   0.985523  0.860800  12.848069\n",
      "Kvalue_20_KNNBasic   0.985854  0.973985  12.415478\n",
      "Kvalue_15_KNNBasic   0.989523  0.916487  10.876238\n",
      "Kvalue_10_KNNBasic   1.001281  1.016812  10.679695\n",
      "Kvalue_5_KNNBasic    1.036836  0.856237   9.453333\n",
      "min_rmse: 0.9855229453834721\n"
     ]
    }
   ],
   "source": [
    "#ques 15 part a\n",
    "benchmark = []\n",
    "import matplotlib.pyplot as plt\n",
    "name=''\n",
    "k=(5,10,15,20,25)\n",
    "for kvalue in k:\n",
    "# Iterate over all algorithms\n",
    "    for algorithm in [(KNNBasic(k=kvalue, sim_options = {'name':'MSD', 'user_based': True }))]:\n",
    "    \n",
    "       \n",
    "    # Perform cross validation\n",
    "        results = cross_validate(algorithm, data, measures=['RMSE'], cv=3, verbose=False)\n",
    "    # Get results & append algorithm name\n",
    "        tmp = pd.DataFrame.from_dict(results).mean(axis=0)\n",
    "        tmp = tmp.append(pd.Series([\"Kvalue_\"+str(kvalue)+('_')+str(algorithm).split(' ')[0].split('.')[-1]], index=['Algorithm']))\n",
    "        benchmark.append(tmp)\n",
    "        \n",
    "    \n",
    "data1=pd.DataFrame(benchmark).set_index('Algorithm').sort_values('test_rmse')\n",
    "print(data1)\n",
    "userbased_min_rmse=min(data1.test_rmse)\n",
    "print(\"min_rmse:\",userbased_min_rmse)"
   ]
  },
  {
   "cell_type": "code",
   "execution_count": 41,
   "metadata": {},
   "outputs": [
    {
     "name": "stdout",
     "output_type": "stream",
     "text": [
      "kvalue 5\n",
      "Computing the msd similarity matrix...\n",
      "Done computing similarity matrix.\n",
      "Computing the msd similarity matrix...\n",
      "Done computing similarity matrix.\n",
      "Computing the msd similarity matrix...\n",
      "Done computing similarity matrix.\n",
      "kvalue 5\n",
      "kvalue 10\n",
      "Computing the msd similarity matrix...\n",
      "Done computing similarity matrix.\n",
      "Computing the msd similarity matrix...\n",
      "Done computing similarity matrix.\n",
      "Computing the msd similarity matrix...\n",
      "Done computing similarity matrix.\n",
      "kvalue 10\n",
      "kvalue 15\n",
      "Computing the msd similarity matrix...\n",
      "Done computing similarity matrix.\n",
      "Computing the msd similarity matrix...\n",
      "Done computing similarity matrix.\n",
      "Computing the msd similarity matrix...\n",
      "Done computing similarity matrix.\n",
      "kvalue 15\n",
      "kvalue 20\n",
      "Computing the msd similarity matrix...\n",
      "Done computing similarity matrix.\n",
      "Computing the msd similarity matrix...\n",
      "Done computing similarity matrix.\n",
      "Computing the msd similarity matrix...\n",
      "Done computing similarity matrix.\n",
      "kvalue 20\n",
      "kvalue 25\n",
      "Computing the msd similarity matrix...\n",
      "Done computing similarity matrix.\n",
      "Computing the msd similarity matrix...\n",
      "Done computing similarity matrix.\n",
      "Computing the msd similarity matrix...\n",
      "Done computing similarity matrix.\n",
      "kvalue 25\n",
      "                    test_rmse  fit_time  test_time\n",
      "Algorithm                                         \n",
      "Kvalue_25_KNNBasic   0.990057  1.175947  15.050453\n",
      "Kvalue_20_KNNBasic   0.994533  1.351051  14.305812\n",
      "Kvalue_15_KNNBasic   1.005299  1.197253  13.221117\n",
      "Kvalue_10_KNNBasic   1.024025  1.290439  11.919522\n",
      "Kvalue_5_KNNBasic    1.080978  1.237092  10.357185\n",
      "min_rmse: 0.9900569591232976\n"
     ]
    }
   ],
   "source": [
    "# Ques 15 part b\n",
    "benchmark = []\n",
    "import matplotlib.pyplot as plt\n",
    "name=''\n",
    "k=(5,10,15,20,25)\n",
    "for kvalue in k:\n",
    "# Iterate over all algorithms\n",
    "    for algorithm in [(KNNBasic(k=kvalue, sim_options = {'name':'MSD', 'user_based': False }))]:\n",
    "        print(\"kvalue\",kvalue)\n",
    "       #str(kvalue)+('_')+\n",
    "    # Perform cross validation\n",
    "        results = cross_validate(algorithm, data, measures=['RMSE'], cv=3, verbose=False)\n",
    "    # Get results & append algorithm name\n",
    "        tmp = pd.DataFrame.from_dict(results).mean(axis=0)\n",
    "        tmp = tmp.append(pd.Series([\"Kvalue_\"+str(kvalue)+('_')+str(algorithm).split(' ')[0].split('.')[-1]], index=['Algorithm']))\n",
    "        print(\"kvalue\",kvalue)\n",
    "        benchmark.append(tmp)\n",
    "    \n",
    "data2=pd.DataFrame(benchmark).set_index('Algorithm').sort_values('test_rmse')\n",
    "print(data2)\n",
    "itembased_min_rmse=min(data2.test_rmse)\n",
    "print(\"min_rmse:\",itembased_min_rmse)\n"
   ]
  },
  {
   "cell_type": "code",
   "execution_count": 42,
   "metadata": {},
   "outputs": [
    {
     "data": {
      "image/png": "[encoded data removed]",
      "text/plain": [
       "<Figure size 432x288 with 2 Axes>"
      ]
     },
     "metadata": {
      "needs_background": "light"
     },
     "output_type": "display_data"
    }
   ],
   "source": [
    "import numpy as np\n",
    "x = np.arange(5)\n",
    "ax1 = plt.subplot(1,1,1)\n",
    "k=(25,20,15,10,5)\n",
    "w = 0.2\n",
    "plt.xticks(x + w /2,k,rotation='vertical')\n",
    "user_based =ax1.bar(x,data1.test_rmse,width=w, color='b', align='center')\n",
    "ax2 = ax1.twinx()\n",
    "item_based =ax2.bar(x + w,data2.test_rmse, width=w,color='g',align='center')\n",
    "plt.ylabel('RMSE')\n",
    "plt.legend([user_based, item_based],['User Based RMSE', 'Item Based RMSE'],loc=7)\n",
    "plt.title('RMSE values for different K')\n",
    "plt.show()\n",
    "\n",
    "#plt.savefig(\"C:/Users/shrut/Documents/MachineLearning/HW7/RMSE_K_Values.png\")"
   ]
  },
  {
   "cell_type": "code",
   "execution_count": null,
   "metadata": {},
   "outputs": [],
   "source": []
  },
  {
   "cell_type": "code",
   "execution_count": null,
   "metadata": {},
   "outputs": [],
   "source": []
  },
  {
   "cell_type": "code",
   "execution_count": null,
   "metadata": {},
   "outputs": [],
   "source": []
  },
  {
   "cell_type": "code",
   "execution_count": null,
   "metadata": {},
   "outputs": [],
   "source": []
  },
  {
   "cell_type": "code",
   "execution_count": null,
   "metadata": {},
   "outputs": [],
   "source": []
  },
  {
   "cell_type": "code",
   "execution_count": null,
   "metadata": {},
   "outputs": [],
   "source": []
  },
  {
   "cell_type": "code",
   "execution_count": null,
   "metadata": {},
   "outputs": [],
   "source": []
  }
 ],
 "metadata": {
  "kernelspec": {
   "display_name": "Python 3",
   "language": "python",
   "name": "python3"
  },
  "language_info": {
   "codemirror_mode": {
    "name": "ipython",
    "version": 3
   },
   "file_extension": ".py",
   "mimetype": "text/x-python",
   "name": "python",
   "nbconvert_exporter": "python",
   "pygments_lexer": "ipython3",
   "version": "3.7.4"
  }
 },
 "nbformat": 4,
 "nbformat_minor": 2
}
