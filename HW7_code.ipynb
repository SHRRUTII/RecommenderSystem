{
 "cells": [
  {
   "cell_type": "code",
   "execution_count": 3,
   "metadata": {},
   "outputs": [],
   "source": [
    "from surprise import Dataset\n",
    "from surprise import Reader\n",
    "import pandas as pd\n",
    "import os\n",
    "#load data from a file:Ques 3\n",
    "file_path = os.path.expanduser('C:/Users/shrut/Documents/MachineLearning/HW7/restaurant_ratings.txt')\n",
    "reader = Reader(line_format='user item rating timestamp', sep='\\t')\n",
    "data = Dataset.load_from_file(file_path, reader=reader)\n",
    "from surprise.model_selection import cross_validate\n",
    "from surprise import SVD\n",
    "from surprise import NMF\n",
    "from surprise import KNNBasic"
   ]
  },
  {
   "cell_type": "code",
   "execution_count": 4,
   "metadata": {},
   "outputs": [
    {
     "name": "stdout",
     "output_type": "stream",
     "text": [
      "Evaluating RMSE, MAE of algorithm SVD on 3 split(s).\n",
      "\n",
      "                  Fold 1  Fold 2  Fold 3  Mean    Std     \n",
      "RMSE (testset)    0.9508  0.9453  0.9448  0.9469  0.0027  \n",
      "MAE (testset)     0.7503  0.7456  0.7464  0.7475  0.0021  \n",
      "Fit time          9.67    10.00   10.56   10.07   0.37    \n",
      "Test time         0.92    0.71    0.64    0.76    0.12    \n",
      "performance: {'test_rmse': array([0.95076981, 0.9452944 , 0.94477916]), 'test_mae': array([0.75033109, 0.74561127, 0.7464238 ]), 'fit_time': (9.66563081741333, 10.00026249885559, 10.557216167449951), 'test_time': (0.9196958541870117, 0.714313268661499, 0.6429502964019775)}\n"
     ]
    }
   ],
   "source": [
    "#SVD:Singular Value Decomposition :Ques:5\n",
    "from surprise.model_selection import cross_validate\n",
    "from surprise import SVD\n",
    "#data.split(n_folds=3)\n",
    "algo = SVD()\n",
    "perf = cross_validate(algo, data, measures=['RMSE', 'MAE'], cv=3, verbose=True)\n",
    "print(\"performance:\",perf)"
   ]
  },
  {
   "cell_type": "code",
   "execution_count": 5,
   "metadata": {},
   "outputs": [
    {
     "name": "stdout",
     "output_type": "stream",
     "text": [
      "Evaluating RMSE, MAE of algorithm SVD on 3 split(s).\n",
      "\n",
      "                  Fold 1  Fold 2  Fold 3  Mean    Std     \n",
      "RMSE (testset)    0.9629  0.9698  0.9644  0.9657  0.0029  \n",
      "MAE (testset)     0.7589  0.7647  0.7621  0.7619  0.0024  \n",
      "Fit time          10.20   9.35    10.09   9.88    0.38    \n",
      "Test time         0.51    0.42    0.48    0.47    0.04    \n",
      "performance: {'test_rmse': array([0.96293377, 0.96976971, 0.96439569]), 'test_mae': array([0.75891048, 0.76468817, 0.76208376]), 'fit_time': (10.197447061538696, 9.350109815597534, 10.087348461151123), 'test_time': (0.5125377178192139, 0.4234623908996582, 0.48340439796447754)}\n"
     ]
    }
   ],
   "source": [
    "#PMF:Probabilistic Matrix Factorization :Ques 6\n",
    "algo = SVD(biased=False)\n",
    "perf = cross_validate(algo, data, measures=['RMSE', 'MAE'], cv=3, verbose=True)\n",
    "print(\"performance:\",perf)"
   ]
  },
  {
   "cell_type": "code",
   "execution_count": 6,
   "metadata": {},
   "outputs": [
    {
     "name": "stdout",
     "output_type": "stream",
     "text": [
      "Evaluating RMSE, MAE of algorithm NMF on 3 split(s).\n",
      "\n",
      "                  Fold 1  Fold 2  Fold 3  Mean    Std     \n",
      "RMSE (testset)    0.9727  0.9788  0.9741  0.9752  0.0026  \n",
      "MAE (testset)     0.7654  0.7717  0.7653  0.7675  0.0030  \n",
      "Fit time          10.74   9.90    10.84   10.50   0.42    \n",
      "Test time         0.47    0.39    0.47    0.44    0.04    \n",
      "performance: {'test_rmse': array([0.972692  , 0.97875638, 0.97414778]), 'test_mae': array([0.76543948, 0.77172152, 0.76532521]), 'fit_time': (10.744770765304565, 9.90435791015625, 10.839221715927124), 'test_time': (0.4671669006347656, 0.3919346332550049, 0.46599745750427246)}\n"
     ]
    }
   ],
   "source": [
    "#NMF:Non-negative Matrix Factorization :Ques 7\n",
    "from surprise import NMF\n",
    "algo = NMF()\n",
    "perf = cross_validate(algo, data, measures=['RMSE', 'MAE'], cv=3, verbose=True)\n",
    "print(\"performance:\",perf)"
   ]
  },
  {
   "cell_type": "code",
   "execution_count": 7,
   "metadata": {},
   "outputs": [
    {
     "name": "stdout",
     "output_type": "stream",
     "text": [
      "Computing the msd similarity matrix...\n",
      "Done computing similarity matrix.\n",
      "Computing the msd similarity matrix...\n",
      "Done computing similarity matrix.\n",
      "Computing the msd similarity matrix...\n",
      "Done computing similarity matrix.\n",
      "Evaluating RMSE, MAE of algorithm KNNBasic on 3 split(s).\n",
      "\n",
      "                  Fold 1  Fold 2  Fold 3  Mean    Std     \n",
      "RMSE (testset)    0.9883  0.9893  0.9881  0.9886  0.0005  \n",
      "MAE (testset)     0.7825  0.7814  0.7814  0.7817  0.0005  \n",
      "Fit time          0.82    0.83    0.83    0.83    0.00    \n",
      "Test time         13.13   14.40   13.20   13.58   0.58    \n",
      "performance: {'test_rmse': array([0.98828552, 0.98933593, 0.98814127]), 'test_mae': array([0.78246723, 0.78136655, 0.78139425]), 'fit_time': (0.8233473300933838, 0.8281826972961426, 0.8309268951416016), 'test_time': (13.133758306503296, 14.399166584014893, 13.204965353012085)}\n"
     ]
    }
   ],
   "source": [
    "#userBased Collaborative FIltering :Ques 8\n",
    "from surprise import KNNBasic\n",
    "algo = KNNBasic(sim_options = {\n",
    "'user_based': True\n",
    "})\n",
    "perf = cross_validate(algo, data, measures=['RMSE', 'MAE'], cv=3, verbose=True)\n",
    "print(\"performance:\",perf)"
   ]
  },
  {
   "cell_type": "code",
   "execution_count": 8,
   "metadata": {},
   "outputs": [
    {
     "name": "stdout",
     "output_type": "stream",
     "text": [
      "Computing the msd similarity matrix...\n",
      "Done computing similarity matrix.\n",
      "Computing the msd similarity matrix...\n",
      "Done computing similarity matrix.\n",
      "Computing the msd similarity matrix...\n",
      "Done computing similarity matrix.\n",
      "Evaluating RMSE, MAE of algorithm KNNBasic on 3 split(s).\n",
      "\n",
      "                  Fold 1  Fold 2  Fold 3  Mean    Std     \n",
      "RMSE (testset)    0.9837  0.9908  0.9814  0.9853  0.0040  \n",
      "MAE (testset)     0.7787  0.7854  0.7762  0.7801  0.0039  \n",
      "Fit time          1.09    1.11    1.13    1.11    0.02    \n",
      "Test time         14.83   16.35   14.74   15.31   0.74    \n",
      "performance: {'test_rmse': array([0.98368155, 0.99076751, 0.98137621]), 'test_mae': array([0.77873393, 0.78544935, 0.77616711]), 'fit_time': (1.0873212814331055, 1.1108956336975098, 1.1284873485565186), 'test_time': (14.827290534973145, 16.34697985649109, 14.741592645645142)}\n"
     ]
    }
   ],
   "source": [
    "#ItemBased Collaborative FIltering:Ques :9\n",
    "algo = KNNBasic(sim_options = {\n",
    "'user_based': False\n",
    "})\n",
    "perf = cross_validate(algo, data, measures=['RMSE', 'MAE'], cv=3, verbose=True)\n",
    "print(\"performance:\",perf)"
   ]
  },
  {
   "cell_type": "code",
   "execution_count": 50,
   "metadata": {},
   "outputs": [
    {
     "name": "stdout",
     "output_type": "stream",
     "text": [
      "Evaluating RMSE, MAE of algorithm SVD on 3 split(s).\n",
      "\n",
      "                  Fold 1  Fold 2  Fold 3  Mean    Std     \n",
      "RMSE (testset)    0.9469  0.9432  0.9470  0.9457  0.0018  \n",
      "MAE (testset)     0.7469  0.7440  0.7484  0.7464  0.0018  \n",
      "Fit time          11.53   10.86   10.25   10.88   0.52    \n",
      "Test time         0.67    0.63    0.55    0.62    0.05    \n",
      "performance: {'test_rmse': array([0.94686287, 0.94316488, 0.94700222]), 'test_mae': array([0.74685176, 0.74397725, 0.74836213]), 'fit_time': (11.532018899917603, 10.858377456665039, 10.254926919937134), 'test_time': (0.6684379577636719, 0.6305696964263916, 0.5530414581298828)}\n",
      "Evaluating RMSE, MAE of algorithm SVD on 3 split(s).\n",
      "\n",
      "                  Fold 1  Fold 2  Fold 3  Mean    Std     \n",
      "RMSE (testset)    0.9628  0.9700  0.9642  0.9657  0.0031  \n",
      "MAE (testset)     0.7605  0.7645  0.7582  0.7611  0.0026  \n",
      "Fit time          10.99   11.23   10.34   10.85   0.37    \n",
      "Test time         0.57    0.56    0.63    0.59    0.03    \n",
      "performance: {'test_rmse': array([0.962752  , 0.96997485, 0.96423139]), 'test_mae': array([0.76050739, 0.7644997 , 0.75823295]), 'fit_time': (10.99121642112732, 11.225135087966919, 10.343173742294312), 'test_time': (0.5708913803100586, 0.559157133102417, 0.6303901672363281)}\n",
      "Evaluating RMSE, MAE of algorithm NMF on 3 split(s).\n",
      "\n",
      "                  Fold 1  Fold 2  Fold 3  Mean    Std     \n",
      "RMSE (testset)    0.9785  0.9766  0.9744  0.9765  0.0017  \n",
      "MAE (testset)     0.7688  0.7688  0.7639  0.7672  0.0023  \n",
      "Fit time          10.61   10.92   11.26   10.93   0.27    \n",
      "Test time         0.49    0.50    0.57    0.52    0.03    \n",
      "performance: {'test_rmse': array([0.97853606, 0.97656966, 0.97440076]), 'test_mae': array([0.76880648, 0.76879087, 0.76394067]), 'fit_time': (10.606734991073608, 10.918020725250244, 11.263489007949829), 'test_time': (0.492063045501709, 0.5020384788513184, 0.56882643699646)}\n",
      "Computing the msd similarity matrix...\n",
      "Done computing similarity matrix.\n",
      "Computing the msd similarity matrix...\n",
      "Done computing similarity matrix.\n",
      "Computing the msd similarity matrix...\n",
      "Done computing similarity matrix.\n",
      "Evaluating RMSE, MAE of algorithm KNNBasic on 3 split(s).\n",
      "\n",
      "                  Fold 1  Fold 2  Fold 3  Mean    Std     \n",
      "RMSE (testset)    0.9855  0.9894  0.9900  0.9883  0.0020  \n",
      "MAE (testset)     0.7809  0.7805  0.7810  0.7808  0.0002  \n",
      "Fit time          0.92    0.84    0.86    0.87    0.03    \n",
      "Test time         13.95   13.31   14.50   13.92   0.49    \n",
      "performance: {'test_rmse': array([0.98546256, 0.98937874, 0.98997924]), 'test_mae': array([0.7809313 , 0.78046137, 0.78101076]), 'fit_time': (0.9202938079833984, 0.8402647972106934, 0.8577287197113037), 'test_time': (13.95187520980835, 13.310542345046997, 14.499561309814453)}\n",
      "Computing the msd similarity matrix...\n",
      "Done computing similarity matrix.\n",
      "Computing the msd similarity matrix...\n",
      "Done computing similarity matrix.\n",
      "Computing the msd similarity matrix...\n",
      "Done computing similarity matrix.\n",
      "Evaluating RMSE, MAE of algorithm KNNBasic on 3 split(s).\n",
      "\n",
      "                  Fold 1  Fold 2  Fold 3  Mean    Std     \n",
      "RMSE (testset)    0.9850  0.9924  0.9835  0.9869  0.0039  \n",
      "MAE (testset)     0.7793  0.7865  0.7788  0.7815  0.0035  \n",
      "Fit time          1.26    1.13    1.16    1.18    0.05    \n",
      "Test time         15.13   15.37   15.00   15.16   0.15    \n",
      "performance: {'test_rmse': array([0.98496274, 0.9923909 , 0.98349634]), 'test_mae': array([0.77928274, 0.78646029, 0.7788216 ]), 'fit_time': (1.2564826011657715, 1.131944179534912, 1.156794786453247), 'test_time': (15.130366086959839, 15.366038084030151, 14.996735095977783)}\n"
     ]
    }
   ],
   "source": [
    "#Alternatively for :ques 5 to 9\n",
    "\n",
    "\n",
    "for algo in [SVD(),SVD(biased=False),NMF(),KNNBasic(sim_options = {'user_based': True}),KNNBasic(sim_options = {'user_based': False})]:\n",
    "    perf = cross_validate(algo, data, measures=['RMSE', 'MAE'], cv=3, verbose=True)\n",
    "    print(\"performance:\",perf)"
   ]
  },
  {
   "cell_type": "code",
   "execution_count": 51,
   "metadata": {},
   "outputs": [
    {
     "name": "stdout",
     "output_type": "stream",
     "text": [
      "Evaluating RMSE, MAE of algorithm SVD on 3 split(s).\n",
      "\n",
      "                  Fold 1  Fold 2  Fold 3  Mean    Std     \n",
      "RMSE (testset)    0.9378  0.9525  0.9454  0.9452  0.0060  \n",
      "MAE (testset)     0.7397  0.7526  0.7453  0.7459  0.0053  \n",
      "Fit time          10.01   10.37   10.39   10.26   0.18    \n",
      "Test time         0.85    0.60    0.58    0.68    0.12    \n",
      "performance for fold 1: 0.9378137195808952 0.7397281196011264\n",
      "Evaluating RMSE, MAE of algorithm SVD on 3 split(s).\n",
      "\n",
      "                  Fold 1  Fold 2  Fold 3  Mean    Std     \n",
      "RMSE (testset)    0.9648  0.9655  0.9711  0.9671  0.0028  \n",
      "MAE (testset)     0.7615  0.7616  0.7650  0.7627  0.0016  \n",
      "Fit time          10.45   9.64    10.87   10.32   0.51    \n",
      "Test time         0.52    0.46    0.63    0.53    0.07    \n",
      "performance for fold 1: 0.9648255970511115 0.7614928175713777\n",
      "Evaluating RMSE, MAE of algorithm NMF on 3 split(s).\n",
      "\n",
      "                  Fold 1  Fold 2  Fold 3  Mean    Std     \n",
      "RMSE (testset)    0.9653  0.9748  0.9855  0.9752  0.0083  \n",
      "MAE (testset)     0.7567  0.7673  0.7749  0.7663  0.0075  \n",
      "Fit time          10.96   10.51   10.47   10.65   0.22    \n",
      "Test time         0.50    0.81    0.43    0.58    0.16    \n",
      "performance for fold 1: 0.9652542168982546 0.7567056522808846\n",
      "Computing the msd similarity matrix...\n",
      "Done computing similarity matrix.\n",
      "Computing the msd similarity matrix...\n",
      "Done computing similarity matrix.\n",
      "Computing the msd similarity matrix...\n",
      "Done computing similarity matrix.\n",
      "Evaluating RMSE, MAE of algorithm KNNBasic on 3 split(s).\n",
      "\n",
      "                  Fold 1  Fold 2  Fold 3  Mean    Std     \n",
      "RMSE (testset)    0.9896  0.9892  0.9881  0.9890  0.0007  \n",
      "MAE (testset)     0.7819  0.7809  0.7811  0.7813  0.0004  \n",
      "Fit time          0.81    0.87    0.87    0.85    0.03    \n",
      "Test time         13.09   13.23   13.36   13.23   0.11    \n",
      "performance for fold 1: 0.9896344910888457 0.7818883795116157\n",
      "Computing the msd similarity matrix...\n",
      "Done computing similarity matrix.\n",
      "Computing the msd similarity matrix...\n",
      "Done computing similarity matrix.\n",
      "Computing the msd similarity matrix...\n",
      "Done computing similarity matrix.\n",
      "Evaluating RMSE, MAE of algorithm KNNBasic on 3 split(s).\n",
      "\n",
      "                  Fold 1  Fold 2  Fold 3  Mean    Std     \n",
      "RMSE (testset)    0.9873  0.9843  0.9825  0.9847  0.0020  \n",
      "MAE (testset)     0.7823  0.7801  0.7778  0.7800  0.0018  \n",
      "Fit time          1.14    1.34    1.28    1.25    0.09    \n",
      "Test time         14.84   15.78   16.36   15.66   0.63    \n",
      "performance for fold 1: 0.9872848249376545 0.7822616239062091\n"
     ]
    }
   ],
   "source": [
    "#ques 10\n",
    "name=''\n",
    "for algo in [SVD(),SVD(biased=False),NMF(),KNNBasic(sim_options = {'user_based': True}),KNNBasic(sim_options = {'user_based': False})]:\n",
    "    perf = cross_validate(algo, data, measures=['RMSE', 'MAE'], cv=3, verbose=True)\n",
    "    print(\"performance for fold 1:\",perf['test_rmse'][0],perf['test_mae'][0])"
   ]
  },
  {
   "cell_type": "code",
   "execution_count": 58,
   "metadata": {},
   "outputs": [
    {
     "name": "stdout",
     "output_type": "stream",
     "text": [
      "Evaluating RMSE, MAE of algorithm SVD on 3 split(s).\n",
      "\n",
      "                  Fold 1  Fold 2  Fold 3  Mean    Std     \n",
      "RMSE (testset)    0.9466  0.9417  0.9497  0.9460  0.0033  \n",
      "MAE (testset)     0.7458  0.7438  0.7491  0.7463  0.0022  \n",
      "Fit time          10.11   10.31   9.23    9.88    0.47    \n",
      "Test time         0.55    0.87    0.55    0.66    0.15    \n",
      "performance for fold 2: 0.9416809228061491 0.7438396972438832\n",
      "Evaluating RMSE, MAE of algorithm SVD on 3 split(s).\n",
      "\n",
      "                  Fold 1  Fold 2  Fold 3  Mean    Std     \n",
      "RMSE (testset)    0.9634  0.9637  0.9745  0.9672  0.0052  \n",
      "MAE (testset)     0.7598  0.7604  0.7675  0.7626  0.0035  \n",
      "Fit time          10.06   9.13    9.12    9.44    0.44    \n",
      "Test time         0.48    0.69    0.55    0.58    0.09    \n",
      "performance for fold 2: 0.9636537004588728 0.7604031042534147\n",
      "Evaluating RMSE, MAE of algorithm NMF on 3 split(s).\n",
      "\n",
      "                  Fold 1  Fold 2  Fold 3  Mean    Std     \n",
      "RMSE (testset)    0.9715  0.9742  0.9821  0.9759  0.0045  \n",
      "MAE (testset)     0.7653  0.7664  0.7712  0.7676  0.0025  \n",
      "Fit time          10.12   9.43    10.03   9.86    0.31    \n",
      "Test time         0.37    0.48    0.47    0.44    0.05    \n",
      "performance for fold 2: 0.974206673467467 0.7664368871639221\n",
      "Computing the msd similarity matrix...\n",
      "Done computing similarity matrix.\n",
      "Computing the msd similarity matrix...\n",
      "Done computing similarity matrix.\n",
      "Computing the msd similarity matrix...\n",
      "Done computing similarity matrix.\n",
      "Evaluating RMSE, MAE of algorithm KNNBasic on 3 split(s).\n",
      "\n",
      "                  Fold 1  Fold 2  Fold 3  Mean    Std     \n",
      "RMSE (testset)    0.9789  0.9892  0.9977  0.9886  0.0077  \n",
      "MAE (testset)     0.7743  0.7826  0.7877  0.7815  0.0055  \n",
      "Fit time          0.84    0.82    0.82    0.83    0.01    \n",
      "Test time         12.29   12.12   12.22   12.21   0.07    \n",
      "performance for fold 2: 0.9892011608658342 0.7825935654074984\n",
      "Computing the msd similarity matrix...\n",
      "Done computing similarity matrix.\n",
      "Computing the msd similarity matrix...\n",
      "Done computing similarity matrix.\n",
      "Computing the msd similarity matrix...\n",
      "Done computing similarity matrix.\n",
      "Evaluating RMSE, MAE of algorithm KNNBasic on 3 split(s).\n",
      "\n",
      "                  Fold 1  Fold 2  Fold 3  Mean    Std     \n",
      "RMSE (testset)    0.9886  0.9907  0.9799  0.9864  0.0047  \n",
      "MAE (testset)     0.7828  0.7838  0.7760  0.7809  0.0034  \n",
      "Fit time          1.05    1.25    1.10    1.14    0.09    \n",
      "Test time         13.92   14.48   15.12   14.51   0.49    \n",
      "performance for fold 2: 0.9907175698473737 0.7837500977718717\n"
     ]
    }
   ],
   "source": [
    "#ques 11\n",
    "name=''\n",
    "for algo in [SVD(),SVD(biased=False),NMF(),KNNBasic(sim_options = {'user_based': True}),KNNBasic(sim_options = {'user_based': False})]:\n",
    "    perf = cross_validate(algo, data, measures=['RMSE', 'MAE'], cv=3, verbose=True)\n",
    "    print(\"performance for fold 2:\",perf['test_rmse'][1],perf['test_mae'][1])"
   ]
  },
  {
   "cell_type": "code",
   "execution_count": 59,
   "metadata": {},
   "outputs": [
    {
     "name": "stdout",
     "output_type": "stream",
     "text": [
      "Evaluating RMSE, MAE of algorithm SVD on 3 split(s).\n",
      "\n",
      "                  Fold 1  Fold 2  Fold 3  Mean    Std     \n",
      "RMSE (testset)    0.9460  0.9438  0.9468  0.9455  0.0013  \n",
      "MAE (testset)     0.7466  0.7458  0.7466  0.7463  0.0004  \n",
      "Fit time          9.17    10.00   9.91    9.69    0.37    \n",
      "Test time         0.54    0.51    0.54    0.53    0.01    \n",
      "performance for fold 3: 0.9467842194529871 0.7466043016974208\n",
      "Evaluating RMSE, MAE of algorithm SVD on 3 split(s).\n",
      "\n",
      "                  Fold 1  Fold 2  Fold 3  Mean    Std     \n",
      "RMSE (testset)    0.9617  0.9674  0.9623  0.9638  0.0026  \n",
      "MAE (testset)     0.7574  0.7639  0.7580  0.7598  0.0030  \n",
      "Fit time          9.26    9.93    9.86    9.69    0.30    \n",
      "Test time         0.49    0.49    0.50    0.49    0.01    \n",
      "performance for fold 3: 0.9623013552699134 0.7579640710123963\n",
      "Evaluating RMSE, MAE of algorithm NMF on 3 split(s).\n",
      "\n",
      "                  Fold 1  Fold 2  Fold 3  Mean    Std     \n",
      "RMSE (testset)    0.9731  0.9790  0.9752  0.9757  0.0024  \n",
      "MAE (testset)     0.7651  0.7685  0.7652  0.7663  0.0016  \n",
      "Fit time          9.61    10.31   10.28   10.07   0.32    \n",
      "Test time         0.40    0.47    0.55    0.47    0.06    \n",
      "performance for fold 3: 0.9751524744074439 0.7651873962456549\n",
      "Computing the msd similarity matrix...\n",
      "Done computing similarity matrix.\n",
      "Computing the msd similarity matrix...\n",
      "Done computing similarity matrix.\n",
      "Computing the msd similarity matrix...\n",
      "Done computing similarity matrix.\n",
      "Evaluating RMSE, MAE of algorithm KNNBasic on 3 split(s).\n",
      "\n",
      "                  Fold 1  Fold 2  Fold 3  Mean    Std     \n",
      "RMSE (testset)    0.9850  0.9894  0.9870  0.9871  0.0018  \n",
      "MAE (testset)     0.7799  0.7813  0.7806  0.7806  0.0006  \n",
      "Fit time          0.82    0.89    0.80    0.84    0.04    \n",
      "Test time         12.30   11.47   12.15   11.97   0.36    \n",
      "performance for fold 3: 0.9869515724099266 0.7806246115192056\n",
      "Computing the msd similarity matrix...\n",
      "Done computing similarity matrix.\n",
      "Computing the msd similarity matrix...\n",
      "Done computing similarity matrix.\n",
      "Computing the msd similarity matrix...\n",
      "Done computing similarity matrix.\n",
      "Evaluating RMSE, MAE of algorithm KNNBasic on 3 split(s).\n",
      "\n",
      "                  Fold 1  Fold 2  Fold 3  Mean    Std     \n",
      "RMSE (testset)    0.9863  0.9848  0.9907  0.9873  0.0025  \n",
      "MAE (testset)     0.7838  0.7776  0.7836  0.7817  0.0029  \n",
      "Fit time          1.04    1.14    1.10    1.09    0.04    \n",
      "Test time         13.75   14.12   13.62   13.83   0.21    \n",
      "performance for fold 3: 0.9906665349108962 0.7836140265285987\n"
     ]
    }
   ],
   "source": [
    "#ques 12\n",
    "name=''\n",
    "for algo in [SVD(),SVD(biased=False),NMF(),KNNBasic(sim_options = {'user_based': True}),KNNBasic(sim_options = {'user_based': False})]:\n",
    "    perf = cross_validate(algo, data, measures=['RMSE', 'MAE'], cv=3, verbose=True)\n",
    "    print(\"performance for fold 3:\",perf['test_rmse'][2],perf['test_mae'][2])"
   ]
  },
  {
   "cell_type": "code",
   "execution_count": 61,
   "metadata": {},
   "outputs": [
    {
     "name": "stdout",
     "output_type": "stream",
     "text": [
      "Evaluating RMSE, MAE of algorithm SVD on 3 split(s).\n",
      "\n",
      "                  Fold 1  Fold 2  Fold 3  Mean    Std     \n",
      "RMSE (testset)    0.9372  0.9466  0.9472  0.9437  0.0046  \n",
      "MAE (testset)     0.7415  0.7466  0.7467  0.7449  0.0025  \n",
      "Fit time          9.43    9.18    10.34   9.65    0.50    \n",
      "Test time         0.82    0.69    0.49    0.67    0.14    \n",
      "performance for mean value: 0.9436734410394289 0.7449318468579517\n",
      "Evaluating RMSE, MAE of algorithm SVD on 3 split(s).\n",
      "\n",
      "                  Fold 1  Fold 2  Fold 3  Mean    Std     \n",
      "RMSE (testset)    0.9708  0.9675  0.9581  0.9655  0.0054  \n",
      "MAE (testset)     0.7669  0.7616  0.7553  0.7613  0.0047  \n",
      "Fit time          11.13   9.91    10.83   10.62   0.52    \n",
      "Test time         0.57    0.57    0.52    0.55    0.03    \n",
      "performance for mean value: 0.9654515166294937 0.7612508163174733\n",
      "Evaluating RMSE, MAE of algorithm NMF on 3 split(s).\n",
      "\n",
      "                  Fold 1  Fold 2  Fold 3  Mean    Std     \n",
      "RMSE (testset)    0.9688  0.9767  0.9770  0.9742  0.0038  \n",
      "MAE (testset)     0.7601  0.7690  0.7675  0.7655  0.0039  \n",
      "Fit time          11.35   10.15   10.49   10.66   0.50    \n",
      "Test time         0.56    0.70    0.44    0.56    0.11    \n",
      "performance for mean value: 0.9741538766975074 0.7655479195096998\n",
      "Computing the msd similarity matrix...\n",
      "Done computing similarity matrix.\n",
      "Computing the msd similarity matrix...\n",
      "Done computing similarity matrix.\n",
      "Computing the msd similarity matrix...\n",
      "Done computing similarity matrix.\n",
      "Evaluating RMSE, MAE of algorithm KNNBasic on 3 split(s).\n",
      "\n",
      "                  Fold 1  Fold 2  Fold 3  Mean    Std     \n",
      "RMSE (testset)    0.9895  0.9920  0.9879  0.9898  0.0017  \n",
      "MAE (testset)     0.7830  0.7836  0.7788  0.7818  0.0021  \n",
      "Fit time          0.84    0.89    0.86    0.86    0.02    \n",
      "Test time         13.34   13.06   12.97   13.12   0.16    \n",
      "performance for mean value: 0.9897717299937283 0.7817932160336611\n",
      "Computing the msd similarity matrix...\n",
      "Done computing similarity matrix.\n",
      "Computing the msd similarity matrix...\n",
      "Done computing similarity matrix.\n",
      "Computing the msd similarity matrix...\n",
      "Done computing similarity matrix.\n",
      "Evaluating RMSE, MAE of algorithm KNNBasic on 3 split(s).\n",
      "\n",
      "                  Fold 1  Fold 2  Fold 3  Mean    Std     \n",
      "RMSE (testset)    0.9844  0.9910  0.9800  0.9851  0.0045  \n",
      "MAE (testset)     0.7795  0.7856  0.7765  0.7805  0.0038  \n",
      "Fit time          1.15    1.16    1.16    1.16    0.00    \n",
      "Test time         14.37   15.30   14.86   14.84   0.38    \n",
      "performance for mean value: 0.985113410356515 0.780548655196637\n"
     ]
    }
   ],
   "source": [
    "#ques 13\n",
    "for algo in [SVD(),SVD(biased=False),NMF(),KNNBasic(sim_options = {'user_based': True}),KNNBasic(sim_options = {'user_based': False})]:\n",
    "    perf = cross_validate(algo, data, measures=['RMSE', 'MAE'], cv=3, verbose=True)\n",
    "    print(\"performance for mean value:\",perf['test_rmse'].mean(),perf['test_mae'].mean())"
   ]
  },
  {
   "cell_type": "code",
   "execution_count": 35,
   "metadata": {},
   "outputs": [
    {
     "name": "stdout",
     "output_type": "stream",
     "text": [
      "Computing the cosine similarity matrix...\n",
      "Done computing similarity matrix.\n",
      "Computing the cosine similarity matrix...\n",
      "Done computing similarity matrix.\n",
      "Computing the cosine similarity matrix...\n",
      "Done computing similarity matrix.\n",
      "Evaluating RMSE, MAE of algorithm KNNBasic on 3 split(s).\n",
      "\n",
      "                  Fold 1  Fold 2  Fold 3  Mean    Std     \n",
      "RMSE (testset)    1.0198  1.0215  1.0249  1.0221  0.0021  \n",
      "MAE (testset)     0.8080  0.8092  0.8098  0.8090  0.0007  \n",
      "Fit time          4.06    3.75    4.32    4.05    0.23    \n",
      "Test time         20.15   20.87   21.35   20.79   0.49    \n",
      "performance_Cosine: {'test_rmse': array([1.01978467, 1.0214737 , 1.02493001]), 'test_mae': array([0.80800529, 0.80915742, 0.80979661]), 'fit_time': (4.064958810806274, 3.7538414001464844, 4.324551820755005), 'test_time': (20.14911198616028, 20.87435269355774, 21.352659225463867)}\n",
      "Computing the msd similarity matrix...\n",
      "Done computing similarity matrix.\n",
      "Computing the msd similarity matrix...\n",
      "Done computing similarity matrix.\n",
      "Computing the msd similarity matrix...\n",
      "Done computing similarity matrix.\n",
      "Evaluating RMSE, MAE of algorithm KNNBasic on 3 split(s).\n",
      "\n",
      "                  Fold 1  Fold 2  Fold 3  Mean    Std     \n",
      "RMSE (testset)    0.9887  0.9888  0.9915  0.9897  0.0013  \n",
      "MAE (testset)     0.7813  0.7833  0.7830  0.7825  0.0009  \n",
      "Fit time          1.20    1.17    1.27    1.21    0.04    \n",
      "Test time         20.54   20.85   20.94   20.78   0.17    \n",
      "performance_MSD: {'test_rmse': array([0.9887167 , 0.98880522, 0.9914963 ]), 'test_mae': array([0.78127733, 0.78327627, 0.78304798]), 'fit_time': (1.2028462886810303, 1.1690797805786133, 1.272615909576416), 'test_time': (20.542364835739136, 20.848769426345825, 20.94188690185547)}\n",
      "Computing the pearson similarity matrix...\n",
      "Done computing similarity matrix.\n",
      "Computing the pearson similarity matrix...\n",
      "Done computing similarity matrix.\n",
      "Computing the pearson similarity matrix...\n",
      "Done computing similarity matrix.\n",
      "Evaluating RMSE, MAE of algorithm KNNBasic on 3 split(s).\n",
      "\n",
      "                  Fold 1  Fold 2  Fold 3  Mean    Std     \n",
      "RMSE (testset)    1.0170  1.0161  1.0226  1.0186  0.0029  \n",
      "MAE (testset)     0.8066  0.8076  0.8137  0.8093  0.0031  \n",
      "Fit time          5.32    5.33    5.38    5.34    0.03    \n",
      "Test time         20.01   20.47   20.07   20.18   0.20    \n",
      "performance_Pearson: {'test_rmse': array([1.0169581 , 1.01614465, 1.02257853]), 'test_mae': array([0.80659896, 0.80762362, 0.81370147]), 'fit_time': (5.315378427505493, 5.332991361618042, 5.378224849700928), 'test_time': (20.01176953315735, 20.470803022384644, 20.06654143333435)}\n"
     ]
    },
    {
     "data": {
      "text/plain": [
       "(0.8089864377532191, 0.7825338632088341, 0.8093080169651907)"
      ]
     },
     "execution_count": 35,
     "metadata": {},
     "output_type": "execute_result"
    }
   ],
   "source": [
    "#Ques:14 part a\n",
    "import matplotlib.pyplot as plt\n",
    "name=''\n",
    "\n",
    "\n",
    "algo1 = KNNBasic(sim_options = {\n",
    "'name':'cosine',\n",
    "'user_based': True\n",
    "})\n",
    "name1=\"Cosine\"\n",
    "perf1 = cross_validate(algo1, data, measures=['RMSE', 'MAE'], cv=3, verbose=True)\n",
    "print(\"performance_Cosine:\",perf1)\n",
    "\n",
    "        \n",
    "algo2 = KNNBasic(sim_options = {\n",
    "'name':'MSD',\n",
    "'user_based': True\n",
    "})\n",
    "name2=\"MSD\"\n",
    "perf2 = cross_validate(algo2, data, measures=['RMSE', 'MAE'], cv=3, verbose=True) \n",
    "print(\"performance_MSD:\",perf2)\n",
    "\n",
    "\n",
    "algo3 = KNNBasic(sim_options = {\n",
    "'name':'pearson',\n",
    "'user_based': True\n",
    "})\n",
    "name3=\"Pearson\"\n",
    "perf3 = cross_validate(algo3, data, measures=['RMSE', 'MAE'], cv=3, verbose=True)\n",
    "print(\"performance_Pearson:\",perf3)\n",
    "\n",
    "data_metrics_ub=(perf1['test_rmse'].mean(),perf2['test_rmse'].mean(),perf3['test_rmse'].mean())\n",
    "data_metrics_ub\n",
    "\n",
    "name=(name1,name2,name3)\n",
    "name\n",
    "\n",
    "data_metrics_mae_ub=(perf1['test_mae'].mean(),perf2['test_mae'].mean(),perf3['test_mae'].mean())\n",
    "data_metrics_mae_ub\n"
   ]
  },
  {
   "cell_type": "code",
   "execution_count": 36,
   "metadata": {},
   "outputs": [
    {
     "name": "stdout",
     "output_type": "stream",
     "text": [
      "Computing the cosine similarity matrix...\n",
      "Done computing similarity matrix.\n",
      "Computing the cosine similarity matrix...\n",
      "Done computing similarity matrix.\n",
      "Computing the cosine similarity matrix...\n",
      "Done computing similarity matrix.\n",
      "Evaluating RMSE, MAE of algorithm KNNBasic on 3 split(s).\n",
      "\n",
      "                  Fold 1  Fold 2  Fold 3  Mean    Std     \n",
      "RMSE (testset)    1.0365  1.0405  1.0335  1.0368  0.0029  \n",
      "MAE (testset)     0.8232  0.8254  0.8212  0.8233  0.0017  \n",
      "Fit time          6.14    6.10    6.30    6.18    0.09    \n",
      "Test time         23.30   23.86   23.71   23.62   0.24    \n",
      "performance_Cosine: {'test_rmse': array([1.03648802, 1.04045977, 1.03345851]), 'test_mae': array([0.82322485, 0.82535349, 0.82124677]), 'fit_time': (6.140509605407715, 6.095391511917114, 6.304762125015259), 'test_time': (23.295823097229004, 23.861308813095093, 23.70600986480713)}\n",
      "Computing the msd similarity matrix...\n",
      "Done computing similarity matrix.\n",
      "Computing the msd similarity matrix...\n",
      "Done computing similarity matrix.\n",
      "Computing the msd similarity matrix...\n",
      "Done computing similarity matrix.\n",
      "Evaluating RMSE, MAE of algorithm KNNBasic on 3 split(s).\n",
      "\n",
      "                  Fold 1  Fold 2  Fold 3  Mean    Std     \n",
      "RMSE (testset)    0.9850  0.9858  0.9862  0.9857  0.0005  \n",
      "MAE (testset)     0.7810  0.7802  0.7813  0.7808  0.0005  \n",
      "Fit time          1.53    10.39   1.65    4.52    4.15    \n",
      "Test time         23.62   26.51   23.99   24.71   1.28    \n",
      "performance_MSD: {'test_rmse': array([0.98503929, 0.98582576, 0.98624514]), 'test_mae': array([0.7810244 , 0.78019595, 0.78130648]), 'fit_time': (1.528752326965332, 10.39342975616455, 1.645298719406128), 'test_time': (23.623449563980103, 26.512739658355713, 23.990885257720947)}\n",
      "Computing the pearson similarity matrix...\n",
      "Done computing similarity matrix.\n",
      "Computing the pearson similarity matrix...\n",
      "Done computing similarity matrix.\n",
      "Computing the pearson similarity matrix...\n",
      "Done computing similarity matrix.\n",
      "Evaluating RMSE, MAE of algorithm KNNBasic on 3 split(s).\n",
      "\n",
      "                  Fold 1  Fold 2  Fold 3  Mean    Std     \n",
      "RMSE (testset)    1.0478  1.0467  1.0488  1.0478  0.0008  \n",
      "MAE (testset)     0.8390  0.8356  0.8405  0.8384  0.0020  \n",
      "Fit time          8.04    7.87    7.92    7.94    0.07    \n",
      "Test time         23.63   23.31   23.13   23.36   0.20    \n",
      "performance_Pearson: {'test_rmse': array([1.04777094, 1.0467107 , 1.04877812]), 'test_mae': array([0.83903563, 0.83563378, 0.84052522]), 'fit_time': (8.041501522064209, 7.873642444610596, 7.917739152908325), 'test_time': (23.625293493270874, 23.3100266456604, 23.130253553390503)}\n"
     ]
    },
    {
     "data": {
      "text/plain": [
       "(0.8232750393356355, 0.7808422787592876, 0.8383982114060853)"
      ]
     },
     "execution_count": 36,
     "metadata": {},
     "output_type": "execute_result"
    }
   ],
   "source": [
    "#Ques 14:part b\n",
    "import matplotlib.pyplot as plt\n",
    "name=''\n",
    "\n",
    "\n",
    "algo1 = KNNBasic(sim_options = {\n",
    "'name':'cosine',\n",
    "'user_based': False\n",
    "})\n",
    "name1=\"Cosine\"\n",
    "perf1 = cross_validate(algo1, data, measures=['RMSE', 'MAE'], cv=3, verbose=True)\n",
    "print(\"performance_Cosine:\",perf1)\n",
    "\n",
    "        \n",
    "algo2 = KNNBasic(sim_options = {\n",
    "'name':'MSD',\n",
    "'user_based': False\n",
    "})\n",
    "name2=\"MSD\"\n",
    "perf2 = cross_validate(algo2, data, measures=['RMSE', 'MAE'], cv=3, verbose=True) \n",
    "print(\"performance_MSD:\",perf2)\n",
    "\n",
    "\n",
    "algo3 = KNNBasic(sim_options = {\n",
    "'name':'pearson',\n",
    "'user_based': False\n",
    "})\n",
    "name3=\"Pearson\"\n",
    "perf3 = cross_validate(algo3, data, measures=['RMSE', 'MAE'], cv=3, verbose=True)\n",
    "print(\"performance_Pearson:\",perf3)\n",
    "\n",
    "data_metrics_ib=(perf1['test_rmse'].mean(),perf2['test_rmse'].mean(),perf3['test_rmse'].mean())\n",
    "data_metrics_ib\n",
    "\n",
    "name=(name1,name2,name3)\n",
    "name\n",
    "\n",
    "data_metrics_mae_ib=(perf1['test_mae'].mean(),perf2['test_mae'].mean(),perf3['test_mae'].mean())\n",
    "data_metrics_mae_ib"
   ]
  },
  {
   "cell_type": "code",
   "execution_count": 68,
   "metadata": {},
   "outputs": [
    {
     "name": "stdout",
     "output_type": "stream",
     "text": [
      "('Cosine', 'MSD', 'Pearson')\n",
      "rmse_ub (1.0220627949805607, 0.9896727385434326, 1.0185604270504476)\n",
      "rmse_ib (1.036802099139514, 0.9857033977408288, 1.0477532535431908)\n"
     ]
    },
    {
     "data": {
      "image/png": "[encoded data removed]",
      "text/plain": [
       "<Figure size 432x288 with 1 Axes>"
      ]
     },
     "metadata": {
      "needs_background": "light"
     },
     "output_type": "display_data"
    }
   ],
   "source": [
    "#plt.savefig(\"C:/Users/shrut/Documents/MachineLearning/HW7/Metrics_RMSE.png\")\n",
    "import numpy as np\n",
    "x = np.arange(3)\n",
    "ax1 = plt.subplot(1,1,1)\n",
    "w = 0.2\n",
    "name=(name1,name2,name3)\n",
    "print(name)\n",
    "print(\"rmse_ub\",data_metrics_ub)\n",
    "print(\"rmse_ib\",data_metrics_ib)\n",
    "    \n",
    "plt.bar(x, data_metrics_ub, width, label='UserBased RMSE')\n",
    "plt.bar(x + w, data_metrics_ib, width,\n",
    "    label='ItemBased RMSE')\n",
    "\n",
    "plt.ylabel('Metrics')\n",
    "plt.title('Metrics for RMSE')\n",
    "\n",
    "plt.xticks(x + w / 2, name,rotation='vertical')\n",
    "plt.legend(loc=7)\n",
    "plt.show()"
   ]
  },
  {
   "cell_type": "code",
   "execution_count": 69,
   "metadata": {},
   "outputs": [
    {
     "name": "stdout",
     "output_type": "stream",
     "text": [
      "('Cosine', 'MSD', 'Pearson')\n",
      "mae_ub (0.8089864377532191, 0.7825338632088341, 0.8093080169651907)\n",
      "mae_ib (0.8232750393356355, 0.7808422787592876, 0.8383982114060853)\n"
     ]
    },
    {
     "data": {
      "image/png": "[encoded data removed]",
      "text/plain": [
       "<Figure size 432x288 with 1 Axes>"
      ]
     },
     "metadata": {
      "needs_background": "light"
     },
     "output_type": "display_data"
    }
   ],
   "source": [
    "import numpy as np\n",
    "x = np.arange(3)\n",
    "ax1 = plt.subplot(1,1,1)\n",
    "w = 0.2\n",
    "name=(name1,name2,name3)\n",
    "print(name)\n",
    "print(\"mae_ub\",data_metrics_mae_ub)\n",
    "print(\"mae_ib\",data_metrics_mae_ib)\n",
    "    \n",
    "plt.bar(x, data_metrics_mae_ub, width, label='UserBased MAE')\n",
    "plt.bar(x + w, data_metrics_mae_ib, width,\n",
    "    label='ItemBased MAE')\n",
    "\n",
    "plt.ylabel('Metrics')\n",
    "plt.title('Metrics for MAE')\n",
    "\n",
    "plt.xticks(x + w / 2, name)\n",
    "plt.legend(loc=7)\n",
    "plt.show()\n"
   ]
  },
  {
   "cell_type": "code",
   "execution_count": 39,
   "metadata": {},
   "outputs": [
    {
     "name": "stdout",
     "output_type": "stream",
     "text": [
      "Computing the msd similarity matrix...\n",
      "Done computing similarity matrix.\n",
      "Computing the msd similarity matrix...\n",
      "Done computing similarity matrix.\n",
      "Computing the msd similarity matrix...\n",
      "Done computing similarity matrix.\n",
      "Computing the msd similarity matrix...\n",
      "Done computing similarity matrix.\n",
      "Computing the msd similarity matrix...\n",
      "Done computing similarity matrix.\n",
      "Computing the msd similarity matrix...\n",
      "Done computing similarity matrix.\n",
      "Computing the msd similarity matrix...\n",
      "Done computing similarity matrix.\n",
      "Computing the msd similarity matrix...\n",
      "Done computing similarity matrix.\n",
      "Computing the msd similarity matrix...\n",
      "Done computing similarity matrix.\n",
      "Computing the msd similarity matrix...\n",
      "Done computing similarity matrix.\n",
      "Computing the msd similarity matrix...\n",
      "Done computing similarity matrix.\n",
      "Computing the msd similarity matrix...\n",
      "Done computing similarity matrix.\n",
      "Computing the msd similarity matrix...\n",
      "Done computing similarity matrix.\n",
      "Computing the msd similarity matrix...\n",
      "Done computing similarity matrix.\n",
      "Computing the msd similarity matrix...\n",
      "Done computing similarity matrix.\n",
      "                    test_rmse  fit_time  test_time\n",
      "Algorithm                                         \n",
      "Kvalue_25_KNNBasic   0.986572  1.200806  18.455921\n",
      "Kvalue_20_KNNBasic   0.987697  1.155175  17.248415\n",
      "Kvalue_15_KNNBasic   0.990802  1.189582  17.394313\n",
      "Kvalue_10_KNNBasic   0.999947  1.334700  15.871569\n",
      "Kvalue_5_KNNBasic    1.037400  1.141171  13.023769\n",
      "min_rmse: 0.9865721645713901\n"
     ]
    }
   ],
   "source": [
    "#ques 15 part a\n",
    "benchmark = []\n",
    "import matplotlib.pyplot as plt\n",
    "name=''\n",
    "k=(5,10,15,20,25)\n",
    "for kvalue in k:\n",
    "# Iterate over all algorithms\n",
    "    for algorithm in [(KNNBasic(k=kvalue, sim_options = {'name':'MSD', 'user_based': True }))]:\n",
    "    \n",
    "       \n",
    "    # Perform cross validation\n",
    "        results = cross_validate(algorithm, data, measures=['RMSE'], cv=3, verbose=False)\n",
    "    # Get results & append algorithm name\n",
    "        tmp = pd.DataFrame.from_dict(results).mean(axis=0)\n",
    "        tmp = tmp.append(pd.Series([\"Kvalue_\"+str(kvalue)+('_')+str(algorithm).split(' ')[0].split('.')[-1]], index=['Algorithm']))\n",
    "        benchmark.append(tmp)\n",
    "        \n",
    "    \n",
    "data1=pd.DataFrame(benchmark).set_index('Algorithm').sort_values('test_rmse')\n",
    "print(data1)\n",
    "userbased_min_rmse=min(data1.test_rmse)\n",
    "print(\"min_rmse:\",userbased_min_rmse)"
   ]
  },
  {
   "cell_type": "code",
   "execution_count": 32,
   "metadata": {},
   "outputs": [
    {
     "name": "stdout",
     "output_type": "stream",
     "text": [
      "kvalue 5\n",
      "Computing the msd similarity matrix...\n",
      "Done computing similarity matrix.\n",
      "Computing the msd similarity matrix...\n",
      "Done computing similarity matrix.\n",
      "Computing the msd similarity matrix...\n",
      "Done computing similarity matrix.\n",
      "kvalue 5\n",
      "kvalue 10\n",
      "Computing the msd similarity matrix...\n",
      "Done computing similarity matrix.\n",
      "Computing the msd similarity matrix...\n",
      "Done computing similarity matrix.\n",
      "Computing the msd similarity matrix...\n",
      "Done computing similarity matrix.\n",
      "kvalue 10\n",
      "kvalue 15\n",
      "Computing the msd similarity matrix...\n",
      "Done computing similarity matrix.\n",
      "Computing the msd similarity matrix...\n",
      "Done computing similarity matrix.\n",
      "Computing the msd similarity matrix...\n",
      "Done computing similarity matrix.\n",
      "kvalue 15\n",
      "kvalue 20\n",
      "Computing the msd similarity matrix...\n",
      "Done computing similarity matrix.\n",
      "Computing the msd similarity matrix...\n",
      "Done computing similarity matrix.\n",
      "Computing the msd similarity matrix...\n",
      "Done computing similarity matrix.\n",
      "kvalue 20\n",
      "kvalue 25\n",
      "Computing the msd similarity matrix...\n",
      "Done computing similarity matrix.\n",
      "Computing the msd similarity matrix...\n",
      "Done computing similarity matrix.\n",
      "Computing the msd similarity matrix...\n",
      "Done computing similarity matrix.\n",
      "kvalue 25\n",
      "                    test_rmse  fit_time  test_time\n",
      "Algorithm                                         \n",
      "Kvalue_25_KNNBasic   0.988677  1.529776  20.447437\n",
      "Kvalue_20_KNNBasic   0.993785  1.565148  19.765475\n",
      "Kvalue_15_KNNBasic   1.003424  1.576112  18.272914\n",
      "Kvalue_10_KNNBasic   1.023253  1.590665  16.723029\n",
      "Kvalue_5_KNNBasic    1.084791  1.530814  15.035633\n",
      "min_rmse: 0.9886771661201211\n"
     ]
    }
   ],
   "source": [
    "# Ques 15 part b\n",
    "benchmark = []\n",
    "import matplotlib.pyplot as plt\n",
    "name=''\n",
    "k=(5,10,15,20,25)\n",
    "for kvalue in k:\n",
    "# Iterate over all algorithms\n",
    "    for algorithm in [(KNNBasic(k=kvalue, sim_options = {'name':'MSD', 'user_based': False }))]:\n",
    "        print(\"kvalue\",kvalue)\n",
    "       #str(kvalue)+('_')+\n",
    "    # Perform cross validation\n",
    "        results = cross_validate(algorithm, data, measures=['RMSE'], cv=3, verbose=False)\n",
    "    # Get results & append algorithm name\n",
    "        tmp = pd.DataFrame.from_dict(results).mean(axis=0)\n",
    "        tmp = tmp.append(pd.Series([\"Kvalue_\"+str(kvalue)+('_')+str(algorithm).split(' ')[0].split('.')[-1]], index=['Algorithm']))\n",
    "        print(\"kvalue\",kvalue)\n",
    "        benchmark.append(tmp)\n",
    "    \n",
    "data2=pd.DataFrame(benchmark).set_index('Algorithm').sort_values('test_rmse')\n",
    "print(data2)\n",
    "itembased_min_rmse=min(data2.test_rmse)\n",
    "print(\"min_rmse:\",itembased_min_rmse)\n"
   ]
  },
  {
   "cell_type": "code",
   "execution_count": 33,
   "metadata": {},
   "outputs": [
    {
     "data": {
      "image/png": "[encoded data removed]",
      "text/plain": [
       "<Figure size 432x288 with 2 Axes>"
      ]
     },
     "metadata": {
      "needs_background": "light"
     },
     "output_type": "display_data"
    }
   ],
   "source": [
    "import numpy as np\n",
    "x = np.arange(5)\n",
    "ax1 = plt.subplot(1,1,1)\n",
    "k=(25,20,15,10,5)\n",
    "w = 0.2\n",
    "plt.xticks(x + w /2,k,rotation='vertical')\n",
    "user_based =ax1.bar(x,data1.test_rmse,width=w, color='b', align='center')\n",
    "ax2 = ax1.twinx()\n",
    "item_based =ax2.bar(x + w,data2.test_rmse, width=w,color='g',align='center')\n",
    "plt.ylabel('RMSE')\n",
    "plt.legend([user_based, item_based],['User Based RMSE', 'Item Based RMSE'],loc=7)\n",
    "plt.title('RMSE values for different K')\n",
    "plt.show()\n",
    "\n",
    "#plt.savefig(\"C:/Users/shrut/Documents/MachineLearning/HW7/RMSE_K_Values.png\")"
   ]
  },
  {
   "cell_type": "code",
   "execution_count": null,
   "metadata": {},
   "outputs": [],
   "source": []
  },
  {
   "cell_type": "code",
   "execution_count": null,
   "metadata": {},
   "outputs": [],
   "source": []
  }
 ],
 "metadata": {
  "kernelspec": {
   "display_name": "Python 3",
   "language": "python",
   "name": "python3"
  },
  "language_info": {
   "codemirror_mode": {
    "name": "ipython",
    "version": 3
   },
   "file_extension": ".py",
   "mimetype": "text/x-python",
   "name": "python",
   "nbconvert_exporter": "python",
   "pygments_lexer": "ipython3",
   "version": "3.7.4"
  }
 },
 "nbformat": 4,
 "nbformat_minor": 2
}
