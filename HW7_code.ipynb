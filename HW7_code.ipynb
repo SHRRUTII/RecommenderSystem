{
 "cells": [
  {
   "cell_type": "code",
   "execution_count": 50,
   "metadata": {},
   "outputs": [],
   "source": [
    "from surprise import Dataset\n",
    "from surprise import Reader\n",
    "import pandas as pd\n",
    "import os\n",
    "#load data from a file:Ques 3\n",
    "file_path = os.path.expanduser('C:/Users/shrut/Documents/MachineLearning/HW7/restaurant_ratings.txt')\n",
    "reader = Reader(line_format='user item rating timestamp', sep='\\t')\n",
    "data = Dataset.load_from_file(file_path, reader=reader)\n",
    "from surprise.model_selection import cross_validate\n",
    "from surprise import SVD\n",
    "from surprise import NMF\n",
    "from surprise import KNNBasic"
   ]
  },
  {
   "cell_type": "code",
   "execution_count": 51,
   "metadata": {},
   "outputs": [],
   "source": [
    "import random\n",
    "import numpy as np\n",
    "\n",
    "init_seed = 0\n",
    "random.seed(init_seed)\n",
    "np.random.seed(init_seed)"
   ]
  },
  {
   "cell_type": "code",
   "execution_count": 52,
   "metadata": {},
   "outputs": [
    {
     "name": "stdout",
     "output_type": "stream",
     "text": [
      "Evaluating RMSE, MAE of algorithm SVD on 3 split(s).\n",
      "\n",
      "                  Fold 1  Fold 2  Fold 3  Mean    Std     \n",
      "RMSE (testset)    0.9480  0.9392  0.9518  0.9463  0.0053  \n",
      "MAE (testset)     0.7480  0.7420  0.7510  0.7470  0.0037  \n",
      "Fit time          4.67    6.00    4.97    5.21    0.57    \n",
      "Test time         0.37    0.57    0.47    0.47    0.08    \n",
      "performance: {'test_rmse': array([0.94796684, 0.9391688 , 0.95181025]), 'test_mae': array([0.74797143, 0.74204123, 0.75101422]), 'fit_time': (4.670803785324097, 6.001129388809204, 4.966707944869995), 'test_time': (0.3669881820678711, 0.572467565536499, 0.4667520523071289)}\n"
     ]
    }
   ],
   "source": [
    "#SVD:Singular Value Decomposition :Ques:5\n",
    "from surprise.model_selection import cross_validate\n",
    "from surprise import SVD\n",
    "#data.split(n_folds=3)\n",
    "algo = SVD()\n",
    "perf = cross_validate(algo, data, measures=['RMSE', 'MAE'], cv=3, verbose=True)\n",
    "print(\"performance:\",perf)"
   ]
  },
  {
   "cell_type": "code",
   "execution_count": 53,
   "metadata": {},
   "outputs": [
    {
     "name": "stdout",
     "output_type": "stream",
     "text": [
      "Evaluating RMSE, MAE of algorithm SVD on 3 split(s).\n",
      "\n",
      "                  Fold 1  Fold 2  Fold 3  Mean    Std     \n",
      "RMSE (testset)    0.9681  0.9617  0.9729  0.9676  0.0046  \n",
      "MAE (testset)     0.7633  0.7583  0.7670  0.7629  0.0036  \n",
      "Fit time          5.95    5.31    6.67    5.98    0.56    \n",
      "Test time         0.47    0.28    0.61    0.45    0.14    \n",
      "performance: {'test_rmse': array([0.96814573, 0.96166174, 0.97285295]), 'test_mae': array([0.76332714, 0.75828476, 0.76703258]), 'fit_time': (5.950077533721924, 5.313817977905273, 6.674659013748169), 'test_time': (0.4717385768890381, 0.27725863456726074, 0.6079497337341309)}\n"
     ]
    }
   ],
   "source": [
    "#PMF:Probabilistic Matrix Factorization :Ques 6\n",
    "import random\n",
    "import numpy as np\n",
    "init_seed = 0\n",
    "random.seed(init_seed)\n",
    "np.random.seed(init_seed)\n",
    "algo = SVD(biased=False)\n",
    "perf = cross_validate(algo, data, measures=['RMSE', 'MAE'], cv=3, verbose=True)\n",
    "print(\"performance:\",perf)"
   ]
  },
  {
   "cell_type": "code",
   "execution_count": 54,
   "metadata": {},
   "outputs": [
    {
     "name": "stdout",
     "output_type": "stream",
     "text": [
      "Evaluating RMSE, MAE of algorithm NMF on 3 split(s).\n",
      "\n",
      "                  Fold 1  Fold 2  Fold 3  Mean    Std     \n",
      "RMSE (testset)    0.9769  0.9672  0.9808  0.9749  0.0057  \n",
      "MAE (testset)     0.7671  0.7593  0.7713  0.7659  0.0050  \n",
      "Fit time          6.73    5.41    4.90    5.68    0.77    \n",
      "Test time         0.60    0.28    0.27    0.38    0.15    \n",
      "performance: {'test_rmse': array([0.97692458, 0.96717086, 0.98075059]), 'test_mae': array([0.76714382, 0.75932547, 0.77131368]), 'fit_time': (6.733331680297852, 5.4132981300354, 4.895685911178589), 'test_time': (0.598658561706543, 0.2802011966705322, 0.2693347930908203)}\n"
     ]
    }
   ],
   "source": [
    "#NMF:Non-negative Matrix Factorization :Ques 7\n",
    "import random\n",
    "import numpy as np\n",
    "init_seed = 0\n",
    "random.seed(init_seed)\n",
    "np.random.seed(init_seed)\n",
    "from surprise import NMF\n",
    "algo = NMF()\n",
    "perf = cross_validate(algo, data, measures=['RMSE', 'MAE'], cv=3, verbose=True)\n",
    "print(\"performance:\",perf)"
   ]
  },
  {
   "cell_type": "code",
   "execution_count": 55,
   "metadata": {},
   "outputs": [
    {
     "name": "stdout",
     "output_type": "stream",
     "text": [
      "Computing the msd similarity matrix...\n",
      "Done computing similarity matrix.\n",
      "Computing the msd similarity matrix...\n",
      "Done computing similarity matrix.\n",
      "Computing the msd similarity matrix...\n",
      "Done computing similarity matrix.\n",
      "Evaluating RMSE, MAE of algorithm KNNBasic on 3 split(s).\n",
      "\n",
      "                  Fold 1  Fold 2  Fold 3  Mean    Std     \n",
      "RMSE (testset)    0.9941  0.9832  0.9926  0.9899  0.0048  \n",
      "MAE (testset)     0.7841  0.7760  0.7857  0.7820  0.0043  \n",
      "Fit time          0.40    0.43    0.75    0.52    0.16    \n",
      "Test time         6.51    8.08    8.46    7.68    0.85    \n",
      "performance: {'test_rmse': array([0.99408404, 0.98316998, 0.99255065]), 'test_mae': array([0.78412965, 0.77598704, 0.78574437]), 'fit_time': (0.39789533615112305, 0.42682480812072754, 0.7470054626464844), 'test_time': (6.507365942001343, 8.081063270568848, 8.464231491088867)}\n"
     ]
    }
   ],
   "source": [
    "#userBased Collaborative FIltering :Ques 8\n",
    "import random\n",
    "import numpy as np\n",
    "init_seed = 0\n",
    "random.seed(init_seed)\n",
    "np.random.seed(init_seed)\n",
    "from surprise import KNNBasic\n",
    "algo = KNNBasic(sim_options = {\n",
    "'user_based': True\n",
    "})\n",
    "perf = cross_validate(algo, data, measures=['RMSE', 'MAE'], cv=3, verbose=True)\n",
    "print(\"performance:\",perf)"
   ]
  },
  {
   "cell_type": "code",
   "execution_count": 56,
   "metadata": {},
   "outputs": [
    {
     "name": "stdout",
     "output_type": "stream",
     "text": [
      "Computing the msd similarity matrix...\n",
      "Done computing similarity matrix.\n",
      "Computing the msd similarity matrix...\n",
      "Done computing similarity matrix.\n",
      "Computing the msd similarity matrix...\n",
      "Done computing similarity matrix.\n",
      "Evaluating RMSE, MAE of algorithm KNNBasic on 3 split(s).\n",
      "\n",
      "                  Fold 1  Fold 2  Fold 3  Mean    Std     \n",
      "RMSE (testset)    0.9872  0.9787  0.9937  0.9865  0.0061  \n",
      "MAE (testset)     0.7813  0.7754  0.7863  0.7810  0.0045  \n",
      "Fit time          0.90    0.60    0.59    0.70    0.14    \n",
      "Test time         6.74    6.63    7.78    7.05    0.52    \n",
      "performance: {'test_rmse': array([0.98724644, 0.97868256, 0.99365568]), 'test_mae': array([0.7813494 , 0.77542588, 0.78631378]), 'fit_time': (0.8995850086212158, 0.6013917922973633, 0.5897417068481445), 'test_time': (6.7437098026275635, 6.6255834102630615, 7.777482509613037)}\n"
     ]
    }
   ],
   "source": [
    "#ItemBased Collaborative FIltering:Ques :9\n",
    "import random\n",
    "import numpy as np\n",
    "init_seed = 0\n",
    "random.seed(init_seed)\n",
    "np.random.seed(init_seed)\n",
    "algo = KNNBasic(sim_options = {\n",
    "'user_based': False\n",
    "})\n",
    "perf = cross_validate(algo, data, measures=['RMSE', 'MAE'], cv=3, verbose=True)\n",
    "\n",
    "print(\"performance:\",perf)"
   ]
  },
  {
   "cell_type": "code",
   "execution_count": 57,
   "metadata": {},
   "outputs": [
    {
     "name": "stdout",
     "output_type": "stream",
     "text": [
      "Evaluating RMSE, MAE of algorithm SVD on 3 split(s).\n",
      "\n",
      "                  Fold 1  Fold 2  Fold 3  Mean    Std     \n",
      "RMSE (testset)    0.9480  0.9392  0.9518  0.9463  0.0053  \n",
      "MAE (testset)     0.7480  0.7420  0.7510  0.7470  0.0037  \n",
      "Fit time          12.38   9.59    10.08   10.68   1.22    \n",
      "Test time         0.61    0.63    0.64    0.63    0.01    \n",
      "performance: {'test_rmse': array([0.94796684, 0.9391688 , 0.95181025]), 'test_mae': array([0.74797143, 0.74204123, 0.75101422]), 'fit_time': (12.37671947479248, 9.588898658752441, 10.076650619506836), 'test_time': (0.6122560501098633, 0.6264281272888184, 0.6367523670196533)}\n",
      "Evaluating RMSE, MAE of algorithm SVD on 3 split(s).\n",
      "\n",
      "                  Fold 1  Fold 2  Fold 3  Mean    Std     \n",
      "RMSE (testset)    0.9599  0.9747  0.9643  0.9663  0.0062  \n",
      "MAE (testset)     0.7569  0.7675  0.7632  0.7626  0.0044  \n",
      "Fit time          9.39    10.98   11.25   10.54   0.82    \n",
      "Test time         0.77    0.82    0.56    0.72    0.11    \n",
      "performance: {'test_rmse': array([0.95994095, 0.97474672, 0.96426273]), 'test_mae': array([0.75692928, 0.76753833, 0.76318911]), 'fit_time': (9.385676860809326, 10.979292392730713, 11.249370098114014), 'test_time': (0.7689428329467773, 0.8218069076538086, 0.5558047294616699)}\n",
      "Evaluating RMSE, MAE of algorithm NMF on 3 split(s).\n",
      "\n",
      "                  Fold 1  Fold 2  Fold 3  Mean    Std     \n",
      "RMSE (testset)    0.9729  0.9756  0.9725  0.9737  0.0014  \n",
      "MAE (testset)     0.7649  0.7657  0.7631  0.7646  0.0011  \n",
      "Fit time          11.12   10.43   10.74   10.77   0.28    \n",
      "Test time         0.73    0.44    0.67    0.61    0.12    \n",
      "performance: {'test_rmse': array([0.97294788, 0.97556265, 0.97246326]), 'test_mae': array([0.76494471, 0.76572785, 0.76311799]), 'fit_time': (11.120872974395752, 10.430993556976318, 10.744450569152832), 'test_time': (0.7311036586761475, 0.4417603015899658, 0.6679346561431885)}\n",
      "Computing the msd similarity matrix...\n",
      "Done computing similarity matrix.\n",
      "Computing the msd similarity matrix...\n",
      "Done computing similarity matrix.\n",
      "Computing the msd similarity matrix...\n",
      "Done computing similarity matrix.\n",
      "Evaluating RMSE, MAE of algorithm KNNBasic on 3 split(s).\n",
      "\n",
      "                  Fold 1  Fold 2  Fold 3  Mean    Std     \n",
      "RMSE (testset)    0.9862  0.9936  0.9883  0.9894  0.0031  \n",
      "MAE (testset)     0.7785  0.7859  0.7817  0.7821  0.0030  \n",
      "Fit time          0.94    0.83    0.82    0.86    0.05    \n",
      "Test time         12.13   13.45   13.29   12.96   0.59    \n",
      "performance: {'test_rmse': array([0.98619083, 0.99360668, 0.98828903]), 'test_mae': array([0.7785007 , 0.7859222 , 0.78174296]), 'fit_time': (0.935504674911499, 0.8305907249450684, 0.8198394775390625), 'test_time': (12.132843494415283, 13.44870662689209, 13.290565252304077)}\n",
      "Computing the msd similarity matrix...\n",
      "Done computing similarity matrix.\n",
      "Computing the msd similarity matrix...\n",
      "Done computing similarity matrix.\n",
      "Computing the msd similarity matrix...\n",
      "Done computing similarity matrix.\n",
      "Evaluating RMSE, MAE of algorithm KNNBasic on 3 split(s).\n",
      "\n",
      "                  Fold 1  Fold 2  Fold 3  Mean    Std     \n",
      "RMSE (testset)    0.9863  0.9891  0.9814  0.9856  0.0032  \n",
      "MAE (testset)     0.7835  0.7804  0.7790  0.7810  0.0018  \n",
      "Fit time          1.06    1.11    1.30    1.16    0.10    \n",
      "Test time         14.71   15.11   15.72   15.18   0.42    \n",
      "performance: {'test_rmse': array([0.98632088, 0.98912093, 0.9813598 ]), 'test_mae': array([0.7834699 , 0.78043677, 0.77904191]), 'fit_time': (1.0620381832122803, 1.1081407070159912, 1.3016133308410645), 'test_time': (14.708159685134888, 15.108983278274536, 15.721884965896606)}\n"
     ]
    }
   ],
   "source": [
    "#Alternatively for :ques 5 to 9\n",
    "import random\n",
    "import numpy as np\n",
    "init_seed = 0\n",
    "random.seed(init_seed)\n",
    "np.random.seed(init_seed)\n",
    "\n",
    "for algo in [SVD(),SVD(biased=False),NMF(),KNNBasic(sim_options = {'user_based': True}),KNNBasic(sim_options = {'user_based': False})]:\n",
    "    perf = cross_validate(algo, data, measures=['RMSE', 'MAE'], cv=3, verbose=True)\n",
    "    print(\"performance:\",perf)"
   ]
  },
  {
   "cell_type": "code",
   "execution_count": 58,
   "metadata": {},
   "outputs": [
    {
     "name": "stdout",
     "output_type": "stream",
     "text": [
      "Evaluating RMSE, MAE of algorithm SVD on 3 split(s).\n",
      "\n",
      "                  Fold 1  Fold 2  Fold 3  Mean    Std     \n",
      "RMSE (testset)    0.9480  0.9392  0.9518  0.9463  0.0053  \n",
      "MAE (testset)     0.7480  0.7420  0.7510  0.7470  0.0037  \n",
      "Fit time          10.82   10.19   9.36    10.12   0.60    \n",
      "Test time         0.89    0.62    0.60    0.70    0.13    \n",
      "performance for fold 1: 0.9479668391324576 0.7479714307014427\n",
      "Evaluating RMSE, MAE of algorithm SVD on 3 split(s).\n",
      "\n",
      "                  Fold 1  Fold 2  Fold 3  Mean    Std     \n",
      "RMSE (testset)    0.9599  0.9747  0.9643  0.9663  0.0062  \n",
      "MAE (testset)     0.7569  0.7675  0.7632  0.7626  0.0044  \n",
      "Fit time          11.96   10.79   10.29   11.01   0.70    \n",
      "Test time         0.53    0.45    0.56    0.51    0.05    \n",
      "performance for fold 1: 0.9599409489197476 0.756929281559088\n",
      "Evaluating RMSE, MAE of algorithm NMF on 3 split(s).\n",
      "\n",
      "                  Fold 1  Fold 2  Fold 3  Mean    Std     \n",
      "RMSE (testset)    0.9729  0.9756  0.9725  0.9737  0.0014  \n",
      "MAE (testset)     0.7649  0.7657  0.7631  0.7646  0.0011  \n",
      "Fit time          10.93   11.71   11.02   11.22   0.35    \n",
      "Test time         0.72    0.55    0.60    0.62    0.07    \n",
      "performance for fold 1: 0.9729478797494139 0.7649447053338863\n",
      "Computing the msd similarity matrix...\n",
      "Done computing similarity matrix.\n",
      "Computing the msd similarity matrix...\n",
      "Done computing similarity matrix.\n",
      "Computing the msd similarity matrix...\n",
      "Done computing similarity matrix.\n",
      "Evaluating RMSE, MAE of algorithm KNNBasic on 3 split(s).\n",
      "\n",
      "                  Fold 1  Fold 2  Fold 3  Mean    Std     \n",
      "RMSE (testset)    0.9862  0.9936  0.9883  0.9894  0.0031  \n",
      "MAE (testset)     0.7785  0.7859  0.7817  0.7821  0.0030  \n",
      "Fit time          0.81    0.84    0.83    0.83    0.02    \n",
      "Test time         13.32   15.40   15.26   14.66   0.95    \n",
      "performance for fold 1: 0.9861908264964202 0.7785007031344082\n",
      "Computing the msd similarity matrix...\n",
      "Done computing similarity matrix.\n",
      "Computing the msd similarity matrix...\n",
      "Done computing similarity matrix.\n",
      "Computing the msd similarity matrix...\n",
      "Done computing similarity matrix.\n",
      "Evaluating RMSE, MAE of algorithm KNNBasic on 3 split(s).\n",
      "\n",
      "                  Fold 1  Fold 2  Fold 3  Mean    Std     \n",
      "RMSE (testset)    0.9863  0.9891  0.9814  0.9856  0.0032  \n",
      "MAE (testset)     0.7835  0.7804  0.7790  0.7810  0.0018  \n",
      "Fit time          1.11    1.15    1.28    1.18    0.07    \n",
      "Test time         16.22   16.19   17.36   16.59   0.54    \n",
      "performance for fold 1: 0.9863208831483913 0.7834698951215275\n"
     ]
    }
   ],
   "source": [
    "#ques 10\n",
    "import random\n",
    "import numpy as np\n",
    "init_seed = 0\n",
    "random.seed(init_seed)\n",
    "np.random.seed(init_seed)\n",
    "name=''\n",
    "for algo in [SVD(),SVD(biased=False),NMF(),KNNBasic(sim_options = {'user_based': True}),KNNBasic(sim_options = {'user_based': False})]:\n",
    "    perf = cross_validate(algo, data, measures=['RMSE', 'MAE'], cv=3, verbose=True)\n",
    "    print(\"performance for fold 1:\",perf['test_rmse'][0],perf['test_mae'][0])"
   ]
  },
  {
   "cell_type": "code",
   "execution_count": 59,
   "metadata": {},
   "outputs": [
    {
     "name": "stdout",
     "output_type": "stream",
     "text": [
      "Evaluating RMSE, MAE of algorithm SVD on 3 split(s).\n",
      "\n",
      "                  Fold 1  Fold 2  Fold 3  Mean    Std     \n",
      "RMSE (testset)    0.9480  0.9392  0.9518  0.9463  0.0053  \n",
      "MAE (testset)     0.7480  0.7420  0.7510  0.7470  0.0037  \n",
      "Fit time          9.30    8.58    8.72    8.87    0.31    \n",
      "Test time         0.74    0.82    0.52    0.69    0.13    \n",
      "performance for fold 2: 0.9391687984296825 0.7420412346025077\n",
      "Evaluating RMSE, MAE of algorithm SVD on 3 split(s).\n",
      "\n",
      "                  Fold 1  Fold 2  Fold 3  Mean    Std     \n",
      "RMSE (testset)    0.9599  0.9747  0.9643  0.9663  0.0062  \n",
      "MAE (testset)     0.7569  0.7675  0.7632  0.7626  0.0044  \n",
      "Fit time          9.93    9.40    11.05   10.12   0.69    \n",
      "Test time         0.64    0.83    0.63    0.70    0.09    \n",
      "performance for fold 2: 0.9747467242912946 0.7675383345028357\n",
      "Evaluating RMSE, MAE of algorithm NMF on 3 split(s).\n",
      "\n",
      "                  Fold 1  Fold 2  Fold 3  Mean    Std     \n",
      "RMSE (testset)    0.9729  0.9756  0.9725  0.9737  0.0014  \n",
      "MAE (testset)     0.7649  0.7657  0.7631  0.7646  0.0011  \n",
      "Fit time          12.21   13.56   12.57   12.78   0.57    \n",
      "Test time         0.74    0.80    0.64    0.73    0.06    \n",
      "performance for fold 2: 0.9755626536578095 0.7657278514100927\n",
      "Computing the msd similarity matrix...\n",
      "Done computing similarity matrix.\n",
      "Computing the msd similarity matrix...\n",
      "Done computing similarity matrix.\n",
      "Computing the msd similarity matrix...\n",
      "Done computing similarity matrix.\n",
      "Evaluating RMSE, MAE of algorithm KNNBasic on 3 split(s).\n",
      "\n",
      "                  Fold 1  Fold 2  Fold 3  Mean    Std     \n",
      "RMSE (testset)    0.9862  0.9936  0.9883  0.9894  0.0031  \n",
      "MAE (testset)     0.7785  0.7859  0.7817  0.7821  0.0030  \n",
      "Fit time          0.85    0.83    0.90    0.86    0.03    \n",
      "Test time         15.00   15.42   15.30   15.24   0.17    \n",
      "performance for fold 2: 0.9936066757188297 0.7859221983539191\n",
      "Computing the msd similarity matrix...\n",
      "Done computing similarity matrix.\n",
      "Computing the msd similarity matrix...\n",
      "Done computing similarity matrix.\n",
      "Computing the msd similarity matrix...\n",
      "Done computing similarity matrix.\n",
      "Evaluating RMSE, MAE of algorithm KNNBasic on 3 split(s).\n",
      "\n",
      "                  Fold 1  Fold 2  Fold 3  Mean    Std     \n",
      "RMSE (testset)    0.9863  0.9891  0.9814  0.9856  0.0032  \n",
      "MAE (testset)     0.7835  0.7804  0.7790  0.7810  0.0018  \n",
      "Fit time          1.01    1.25    1.32    1.20    0.13    \n",
      "Test time         17.48   17.33   17.00   17.27   0.20    \n",
      "performance for fold 2: 0.9891209270702075 0.780436767341332\n"
     ]
    }
   ],
   "source": [
    "#ques 11\n",
    "import random\n",
    "import numpy as np\n",
    "init_seed = 0\n",
    "random.seed(init_seed)\n",
    "np.random.seed(init_seed)\n",
    "name=''\n",
    "for algo in [SVD(),SVD(biased=False),NMF(),KNNBasic(sim_options = {'user_based': True}),KNNBasic(sim_options = {'user_based': False})]:\n",
    "    perf = cross_validate(algo, data, measures=['RMSE', 'MAE'], cv=3, verbose=True)\n",
    "    print(\"performance for fold 2:\",perf['test_rmse'][1],perf['test_mae'][1])"
   ]
  },
  {
   "cell_type": "code",
   "execution_count": 60,
   "metadata": {},
   "outputs": [
    {
     "name": "stdout",
     "output_type": "stream",
     "text": [
      "Evaluating RMSE, MAE of algorithm SVD on 3 split(s).\n",
      "\n",
      "                  Fold 1  Fold 2  Fold 3  Mean    Std     \n",
      "RMSE (testset)    0.9480  0.9392  0.9518  0.9463  0.0053  \n",
      "MAE (testset)     0.7480  0.7420  0.7510  0.7470  0.0037  \n",
      "Fit time          9.67    10.75   12.29   10.90   1.08    \n",
      "Test time         0.67    0.52    1.00    0.73    0.20    \n",
      "performance for fold 3: 0.9518102470214965 0.7510142218341231\n",
      "Evaluating RMSE, MAE of algorithm SVD on 3 split(s).\n",
      "\n",
      "                  Fold 1  Fold 2  Fold 3  Mean    Std     \n",
      "RMSE (testset)    0.9599  0.9747  0.9643  0.9663  0.0062  \n",
      "MAE (testset)     0.7569  0.7675  0.7632  0.7626  0.0044  \n",
      "Fit time          12.21   12.54   10.99   11.91   0.67    \n",
      "Test time         0.60    0.89    0.59    0.69    0.14    \n",
      "performance for fold 3: 0.9642627252327018 0.7631891147549309\n",
      "Evaluating RMSE, MAE of algorithm NMF on 3 split(s).\n",
      "\n",
      "                  Fold 1  Fold 2  Fold 3  Mean    Std     \n",
      "RMSE (testset)    0.9729  0.9756  0.9725  0.9737  0.0014  \n",
      "MAE (testset)     0.7649  0.7657  0.7631  0.7646  0.0011  \n",
      "Fit time          12.00   11.80   11.42   11.74   0.24    \n",
      "Test time         0.53    0.70    0.72    0.65    0.08    \n",
      "performance for fold 3: 0.9724632630977939 0.7631179935585434\n",
      "Computing the msd similarity matrix...\n",
      "Done computing similarity matrix.\n",
      "Computing the msd similarity matrix...\n",
      "Done computing similarity matrix.\n",
      "Computing the msd similarity matrix...\n",
      "Done computing similarity matrix.\n",
      "Evaluating RMSE, MAE of algorithm KNNBasic on 3 split(s).\n",
      "\n",
      "                  Fold 1  Fold 2  Fold 3  Mean    Std     \n",
      "RMSE (testset)    0.9862  0.9936  0.9883  0.9894  0.0031  \n",
      "MAE (testset)     0.7785  0.7859  0.7817  0.7821  0.0030  \n",
      "Fit time          0.86    0.93    0.83    0.87    0.04    \n",
      "Test time         16.04   15.44   13.36   14.95   1.15    \n",
      "performance for fold 3: 0.9882890346449179 0.7817429586514468\n",
      "Computing the msd similarity matrix...\n",
      "Done computing similarity matrix.\n",
      "Computing the msd similarity matrix...\n",
      "Done computing similarity matrix.\n",
      "Computing the msd similarity matrix...\n",
      "Done computing similarity matrix.\n",
      "Evaluating RMSE, MAE of algorithm KNNBasic on 3 split(s).\n",
      "\n",
      "                  Fold 1  Fold 2  Fold 3  Mean    Std     \n",
      "RMSE (testset)    0.9863  0.9891  0.9814  0.9856  0.0032  \n",
      "MAE (testset)     0.7835  0.7804  0.7790  0.7810  0.0018  \n",
      "Fit time          1.11    1.64    1.35    1.37    0.22    \n",
      "Test time         18.08   18.21   18.96   18.41   0.39    \n",
      "performance for fold 3: 0.9813597970075849 0.7790419102992698\n"
     ]
    }
   ],
   "source": [
    "#ques 12\n",
    "import random\n",
    "import numpy as np\n",
    "init_seed = 0\n",
    "random.seed(init_seed)\n",
    "np.random.seed(init_seed)\n",
    "name=''\n",
    "for algo in [SVD(),SVD(biased=False),NMF(),KNNBasic(sim_options = {'user_based': True}),KNNBasic(sim_options = {'user_based': False})]:\n",
    "    perf = cross_validate(algo, data, measures=['RMSE', 'MAE'], cv=3, verbose=True)\n",
    "    print(\"performance for fold 3:\",perf['test_rmse'][2],perf['test_mae'][2])"
   ]
  },
  {
   "cell_type": "code",
   "execution_count": 61,
   "metadata": {},
   "outputs": [
    {
     "name": "stdout",
     "output_type": "stream",
     "text": [
      "Evaluating RMSE, MAE of algorithm SVD on 3 split(s).\n",
      "\n",
      "                  Fold 1  Fold 2  Fold 3  Mean    Std     \n",
      "RMSE (testset)    0.9480  0.9392  0.9518  0.9463  0.0053  \n",
      "MAE (testset)     0.7480  0.7420  0.7510  0.7470  0.0037  \n",
      "Fit time          11.60   11.36   10.37   11.11   0.53    \n",
      "Test time         0.61    0.40    0.87    0.63    0.19    \n",
      "performance for mean value: 0.9463152948612122 0.7470089623793578\n",
      "Evaluating RMSE, MAE of algorithm SVD on 3 split(s).\n",
      "\n",
      "                  Fold 1  Fold 2  Fold 3  Mean    Std     \n",
      "RMSE (testset)    0.9599  0.9747  0.9643  0.9663  0.0062  \n",
      "MAE (testset)     0.7569  0.7675  0.7632  0.7626  0.0044  \n",
      "Fit time          9.58    11.92   9.86    10.45   1.04    \n",
      "Test time         0.73    1.09    0.66    0.83    0.19    \n",
      "performance for mean value: 0.9663167994812479 0.7625522436056182\n",
      "Evaluating RMSE, MAE of algorithm NMF on 3 split(s).\n",
      "\n",
      "                  Fold 1  Fold 2  Fold 3  Mean    Std     \n",
      "RMSE (testset)    0.9729  0.9756  0.9725  0.9737  0.0014  \n",
      "MAE (testset)     0.7649  0.7657  0.7631  0.7646  0.0011  \n",
      "Fit time          11.78   11.39   11.25   11.47   0.22    \n",
      "Test time         0.74    0.70    0.67    0.70    0.03    \n",
      "performance for mean value: 0.9736579321683392 0.7645968501008408\n",
      "Computing the msd similarity matrix...\n",
      "Done computing similarity matrix.\n",
      "Computing the msd similarity matrix...\n",
      "Done computing similarity matrix.\n",
      "Computing the msd similarity matrix...\n",
      "Done computing similarity matrix.\n",
      "Evaluating RMSE, MAE of algorithm KNNBasic on 3 split(s).\n",
      "\n",
      "                  Fold 1  Fold 2  Fold 3  Mean    Std     \n",
      "RMSE (testset)    0.9862  0.9936  0.9883  0.9894  0.0031  \n",
      "MAE (testset)     0.7785  0.7859  0.7817  0.7821  0.0030  \n",
      "Fit time          1.20    1.01    0.85    1.02    0.14    \n",
      "Test time         14.93   14.93   14.39   14.75   0.26    \n",
      "performance for mean value: 0.9893621789533893 0.7820552867132581\n",
      "Computing the msd similarity matrix...\n",
      "Done computing similarity matrix.\n",
      "Computing the msd similarity matrix...\n",
      "Done computing similarity matrix.\n",
      "Computing the msd similarity matrix...\n",
      "Done computing similarity matrix.\n",
      "Evaluating RMSE, MAE of algorithm KNNBasic on 3 split(s).\n",
      "\n",
      "                  Fold 1  Fold 2  Fold 3  Mean    Std     \n",
      "RMSE (testset)    0.9863  0.9891  0.9814  0.9856  0.0032  \n",
      "MAE (testset)     0.7835  0.7804  0.7790  0.7810  0.0018  \n",
      "Fit time          1.33    1.17    1.52    1.34    0.14    \n",
      "Test time         17.11   17.83   16.30   17.08   0.62    \n",
      "performance for mean value: 0.9856005357420612 0.7809828575873764\n"
     ]
    }
   ],
   "source": [
    "#ques 13\n",
    "import random\n",
    "import numpy as np\n",
    "init_seed = 0\n",
    "random.seed(init_seed)\n",
    "np.random.seed(init_seed)\n",
    "for algo in [SVD(),SVD(biased=False),NMF(),KNNBasic(sim_options = {'user_based': True}),KNNBasic(sim_options = {'user_based': False})]:\n",
    "    perf = cross_validate(algo, data, measures=['RMSE', 'MAE'], cv=3, verbose=True)\n",
    "    print(\"performance for mean value:\",perf['test_rmse'].mean(),perf['test_mae'].mean())"
   ]
  },
  {
   "cell_type": "code",
   "execution_count": 62,
   "metadata": {},
   "outputs": [
    {
     "name": "stdout",
     "output_type": "stream",
     "text": [
      "Computing the cosine similarity matrix...\n",
      "Done computing similarity matrix.\n",
      "Computing the cosine similarity matrix...\n",
      "Done computing similarity matrix.\n",
      "Computing the cosine similarity matrix...\n",
      "Done computing similarity matrix.\n",
      "Evaluating RMSE, MAE of algorithm KNNBasic on 3 split(s).\n",
      "\n",
      "                  Fold 1  Fold 2  Fold 3  Mean    Std     \n",
      "RMSE (testset)    1.0260  1.0163  1.0253  1.0225  0.0044  \n",
      "MAE (testset)     0.8112  0.8031  0.8137  0.8093  0.0045  \n",
      "Fit time          2.90    2.99    3.31    3.07    0.18    \n",
      "Test time         13.60   15.98   14.69   14.76   0.97    \n",
      "performance_Cosine: {'test_rmse': array([1.02603439, 1.01633359, 1.02526466]), 'test_mae': array([0.81123852, 0.80309586, 0.81366949]), 'fit_time': (2.9019486904144287, 2.9852545261383057, 3.308248519897461), 'test_time': (13.604365348815918, 15.981211185455322, 14.68861436843872)}\n",
      "Computing the msd similarity matrix...\n",
      "Done computing similarity matrix.\n",
      "Computing the msd similarity matrix...\n",
      "Done computing similarity matrix.\n",
      "Computing the msd similarity matrix...\n",
      "Done computing similarity matrix.\n",
      "Evaluating RMSE, MAE of algorithm KNNBasic on 3 split(s).\n",
      "\n",
      "                  Fold 1  Fold 2  Fold 3  Mean    Std     \n",
      "RMSE (testset)    0.9872  0.9894  0.9905  0.9890  0.0014  \n",
      "MAE (testset)     0.7832  0.7803  0.7810  0.7815  0.0013  \n",
      "Fit time          1.06    1.15    0.67    0.96    0.21    \n",
      "Test time         13.72   16.24   14.60   14.85   1.05    \n",
      "performance_MSD: {'test_rmse': array([0.9871784 , 0.98944075, 0.99046329]), 'test_mae': array([0.78321968, 0.78028261, 0.780993  ]), 'fit_time': (1.0580346584320068, 1.1539170742034912, 0.6688716411590576), 'test_time': (13.720467329025269, 16.242565155029297, 14.59610104560852)}\n",
      "Computing the pearson similarity matrix...\n",
      "Done computing similarity matrix.\n",
      "Computing the pearson similarity matrix...\n",
      "Done computing similarity matrix.\n",
      "Computing the pearson similarity matrix...\n",
      "Done computing similarity matrix.\n",
      "Evaluating RMSE, MAE of algorithm KNNBasic on 3 split(s).\n",
      "\n",
      "                  Fold 1  Fold 2  Fold 3  Mean    Std     \n",
      "RMSE (testset)    1.0193  1.0166  1.0210  1.0189  0.0018  \n",
      "MAE (testset)     0.8095  0.8075  0.8093  0.8088  0.0009  \n",
      "Fit time          3.85    3.85    4.14    3.95    0.13    \n",
      "Test time         13.65   15.57   16.97   15.40   1.36    \n",
      "performance_Pearson: {'test_rmse': array([1.01925176, 1.01661795, 1.02095701]), 'test_mae': array([0.80949424, 0.80751634, 0.80929673]), 'fit_time': (3.8508734703063965, 3.8543949127197266, 4.137221813201904), 'test_time': (13.654324293136597, 15.57265853881836, 16.972177505493164)}\n"
     ]
    },
    {
     "data": {
      "text/plain": [
       "(0.8093346213727681, 0.7814984298733854, 0.8087691035169549)"
      ]
     },
     "execution_count": 62,
     "metadata": {},
     "output_type": "execute_result"
    }
   ],
   "source": [
    "\n",
    "#Ques:14 part a\n",
    "import matplotlib.pyplot as plt\n",
    "name=''\n",
    "init_seed = 0\n",
    "random.seed(init_seed)\n",
    "np.random.seed(init_seed)\n",
    "\n",
    "algo1 = KNNBasic(sim_options = {\n",
    "'name':'cosine',\n",
    "'user_based': True\n",
    "})\n",
    "name1=\"Cosine\"\n",
    "perf1 = cross_validate(algo1, data, measures=['RMSE', 'MAE'], cv=3, verbose=True)\n",
    "print(\"performance_Cosine:\",perf1)\n",
    "\n",
    "        \n",
    "algo2 = KNNBasic(sim_options = {\n",
    "'name':'MSD',\n",
    "'user_based': True\n",
    "})\n",
    "name2=\"MSD\"\n",
    "perf2 = cross_validate(algo2, data, measures=['RMSE', 'MAE'], cv=3, verbose=True) \n",
    "print(\"performance_MSD:\",perf2)\n",
    "\n",
    "\n",
    "algo3 = KNNBasic(sim_options = {\n",
    "'name':'pearson',\n",
    "'user_based': True\n",
    "})\n",
    "name3=\"Pearson\"\n",
    "perf3 = cross_validate(algo3, data, measures=['RMSE', 'MAE'], cv=3, verbose=True)\n",
    "print(\"performance_Pearson:\",perf3)\n",
    "\n",
    "data_metrics_ub=(perf1['test_rmse'].mean(),perf2['test_rmse'].mean(),perf3['test_rmse'].mean())\n",
    "data_metrics_ub\n",
    "\n",
    "name=(name1,name2,name3)\n",
    "name\n",
    "\n",
    "data_metrics_mae_ub=(perf1['test_mae'].mean(),perf2['test_mae'].mean(),perf3['test_mae'].mean())\n",
    "data_metrics_mae_ub\n"
   ]
  },
  {
   "cell_type": "code",
   "execution_count": 63,
   "metadata": {},
   "outputs": [
    {
     "name": "stdout",
     "output_type": "stream",
     "text": [
      "Computing the cosine similarity matrix...\n",
      "Done computing similarity matrix.\n",
      "Computing the cosine similarity matrix...\n",
      "Done computing similarity matrix.\n",
      "Computing the cosine similarity matrix...\n",
      "Done computing similarity matrix.\n",
      "Evaluating RMSE, MAE of algorithm KNNBasic on 3 split(s).\n",
      "\n",
      "                  Fold 1  Fold 2  Fold 3  Mean    Std     \n",
      "RMSE (testset)    1.0361  1.0313  1.0434  1.0369  0.0050  \n",
      "MAE (testset)     0.8217  0.8196  0.8275  0.8229  0.0034  \n",
      "Fit time          5.25    4.37    4.45    4.69    0.39    \n",
      "Test time         17.28   17.02   17.37   17.22   0.15    \n",
      "performance_Cosine: {'test_rmse': array([1.03607313, 1.03129762, 1.04335184]), 'test_mae': array([0.82170189, 0.81956243, 0.82749627]), 'fit_time': (5.245349645614624, 4.36987042427063, 4.452415466308594), 'test_time': (17.275964498519897, 17.0243079662323, 17.372459650039673)}\n",
      "Computing the msd similarity matrix...\n",
      "Done computing similarity matrix.\n",
      "Computing the msd similarity matrix...\n",
      "Done computing similarity matrix.\n",
      "Computing the msd similarity matrix...\n",
      "Done computing similarity matrix.\n",
      "Evaluating RMSE, MAE of algorithm KNNBasic on 3 split(s).\n",
      "\n",
      "                  Fold 1  Fold 2  Fold 3  Mean    Std     \n",
      "RMSE (testset)    0.9901  0.9822  0.9874  0.9866  0.0033  \n",
      "MAE (testset)     0.7871  0.7762  0.7816  0.7817  0.0044  \n",
      "Fit time          1.48    1.25    1.29    1.34    0.10    \n",
      "Test time         16.52   16.56   18.19   17.09   0.78    \n",
      "performance_MSD: {'test_rmse': array([0.99014955, 0.98215849, 0.98735822]), 'test_mae': array([0.78711383, 0.77624969, 0.78159109]), 'fit_time': (1.4840197563171387, 1.252561330795288, 1.289809226989746), 'test_time': (16.519979238510132, 16.56282615661621, 18.189348459243774)}\n",
      "Computing the pearson similarity matrix...\n",
      "Done computing similarity matrix.\n",
      "Computing the pearson similarity matrix...\n",
      "Done computing similarity matrix.\n",
      "Computing the pearson similarity matrix...\n",
      "Done computing similarity matrix.\n",
      "Evaluating RMSE, MAE of algorithm KNNBasic on 3 split(s).\n",
      "\n",
      "                  Fold 1  Fold 2  Fold 3  Mean    Std     \n",
      "RMSE (testset)    1.0480  1.0498  1.0458  1.0479  0.0016  \n",
      "MAE (testset)     0.8403  0.8378  0.8380  0.8387  0.0011  \n",
      "Fit time          6.01    6.38    5.41    5.93    0.40    \n",
      "Test time         16.92   15.84   16.37   16.38   0.44    \n",
      "performance_Pearson: {'test_rmse': array([1.04801801, 1.04980729, 1.04582644]), 'test_mae': array([0.84028371, 0.83783805, 0.83796684]), 'fit_time': (6.0103795528411865, 6.376539945602417, 5.405966758728027), 'test_time': (16.91543984413147, 15.844291925430298, 16.365291833877563)}\n"
     ]
    },
    {
     "data": {
      "text/plain": [
       "(0.8229201955061879, 0.7816515349044715, 0.8386961995437776)"
      ]
     },
     "execution_count": 63,
     "metadata": {},
     "output_type": "execute_result"
    }
   ],
   "source": [
    "#Ques 14:part b\n",
    "import matplotlib.pyplot as plt\n",
    "name=''\n",
    "init_seed = 0\n",
    "random.seed(init_seed)\n",
    "np.random.seed(init_seed)\n",
    "\n",
    "algo1 = KNNBasic(sim_options = {\n",
    "'name':'cosine',\n",
    "'user_based': False\n",
    "})\n",
    "name1=\"Cosine\"\n",
    "perf1 = cross_validate(algo1, data, measures=['RMSE', 'MAE'], cv=3, verbose=True)\n",
    "print(\"performance_Cosine:\",perf1)\n",
    "\n",
    "        \n",
    "algo2 = KNNBasic(sim_options = {\n",
    "'name':'MSD',\n",
    "'user_based': False\n",
    "})\n",
    "name2=\"MSD\"\n",
    "perf2 = cross_validate(algo2, data, measures=['RMSE', 'MAE'], cv=3, verbose=True) \n",
    "print(\"performance_MSD:\",perf2)\n",
    "\n",
    "\n",
    "algo3 = KNNBasic(sim_options = {\n",
    "'name':'pearson',\n",
    "'user_based': False\n",
    "})\n",
    "name3=\"Pearson\"\n",
    "perf3 = cross_validate(algo3, data, measures=['RMSE', 'MAE'], cv=3, verbose=True)\n",
    "print(\"performance_Pearson:\",perf3)\n",
    "\n",
    "data_metrics_ib=(perf1['test_rmse'].mean(),perf2['test_rmse'].mean(),perf3['test_rmse'].mean())\n",
    "data_metrics_ib\n",
    "\n",
    "name=(name1,name2,name3)\n",
    "name\n",
    "\n",
    "data_metrics_mae_ib=(perf1['test_mae'].mean(),perf2['test_mae'].mean(),perf3['test_mae'].mean())\n",
    "data_metrics_mae_ib"
   ]
  },
  {
   "cell_type": "code",
   "execution_count": 64,
   "metadata": {},
   "outputs": [
    {
     "name": "stdout",
     "output_type": "stream",
     "text": [
      "('Cosine', 'MSD', 'Pearson')\n",
      "rmse_ub (1.0225442145861894, 0.9890274798854608, 1.0189422373746948)\n",
      "rmse_ib (1.0369075296632437, 0.9865554178390492, 1.047883913172261)\n"
     ]
    },
    {
     "data": {
      "image/png": "[encoded data removed]",
      "text/plain": [
       "<Figure size 432x288 with 1 Axes>"
      ]
     },
     "metadata": {
      "needs_background": "light"
     },
     "output_type": "display_data"
    }
   ],
   "source": [
    "#plt.savefig(\"C:/Users/shrut/Documents/MachineLearning/HW7/Metrics_RMSE.png\")\n",
    "import numpy as np\n",
    "x = np.arange(3)\n",
    "ax1 = plt.subplot(1,1,1)\n",
    "w = 0.2\n",
    "name=(name1,name2,name3)\n",
    "print(name)\n",
    "print(\"rmse_ub\",data_metrics_ub)\n",
    "print(\"rmse_ib\",data_metrics_ib)\n",
    "    \n",
    "plt.bar(x, data_metrics_ub, w, label='UserBased RMSE')\n",
    "plt.bar(x + w, data_metrics_ib, w,\n",
    "    label='ItemBased RMSE')\n",
    "\n",
    "plt.ylabel('RMSE')\n",
    "plt.title('Metrics for RMSE')\n",
    "\n",
    "plt.xticks(x + w / 2, name,rotation='vertical')\n",
    "plt.legend(bbox_to_anchor=(1,1), loc=\"upper left\")\n",
    "plt.show()"
   ]
  },
  {
   "cell_type": "code",
   "execution_count": 65,
   "metadata": {},
   "outputs": [
    {
     "name": "stdout",
     "output_type": "stream",
     "text": [
      "('Cosine', 'MSD', 'Pearson')\n",
      "mae_ub (0.8093346213727681, 0.7814984298733854, 0.8087691035169549)\n",
      "mae_ib (0.8229201955061879, 0.7816515349044715, 0.8386961995437776)\n"
     ]
    },
    {
     "data": {
      "image/png": "[encoded data removed]",
      "text/plain": [
       "<Figure size 432x288 with 1 Axes>"
      ]
     },
     "metadata": {
      "needs_background": "light"
     },
     "output_type": "display_data"
    }
   ],
   "source": [
    "import numpy as np\n",
    "x = np.arange(3)\n",
    "ax1 = plt.subplot(1,1,1)\n",
    "w = 0.2\n",
    "name=(name1,name2,name3)\n",
    "print(name)\n",
    "print(\"mae_ub\",data_metrics_mae_ub)\n",
    "print(\"mae_ib\",data_metrics_mae_ib)\n",
    "    \n",
    "plt.bar(x, data_metrics_mae_ub, w, label='UserBased MAE')\n",
    "plt.bar(x + w, data_metrics_mae_ib, w,\n",
    "    label='ItemBased MAE')\n",
    "\n",
    "plt.ylabel('MAE')\n",
    "plt.title('Metrics for MAE')\n",
    "\n",
    "plt.xticks(x + w / 2, name)\n",
    "plt.legend(bbox_to_anchor=(1,1), loc=\"upper left\")\n",
    "plt.show()\n"
   ]
  },
  {
   "cell_type": "code",
   "execution_count": 66,
   "metadata": {},
   "outputs": [
    {
     "name": "stdout",
     "output_type": "stream",
     "text": [
      "Computing the msd similarity matrix...\n",
      "Done computing similarity matrix.\n",
      "Computing the msd similarity matrix...\n",
      "Done computing similarity matrix.\n",
      "Computing the msd similarity matrix...\n",
      "Done computing similarity matrix.\n",
      "Computing the msd similarity matrix...\n",
      "Done computing similarity matrix.\n",
      "Computing the msd similarity matrix...\n",
      "Done computing similarity matrix.\n",
      "Computing the msd similarity matrix...\n",
      "Done computing similarity matrix.\n",
      "Computing the msd similarity matrix...\n",
      "Done computing similarity matrix.\n",
      "Computing the msd similarity matrix...\n",
      "Done computing similarity matrix.\n",
      "Computing the msd similarity matrix...\n",
      "Done computing similarity matrix.\n",
      "Computing the msd similarity matrix...\n",
      "Done computing similarity matrix.\n",
      "Computing the msd similarity matrix...\n",
      "Done computing similarity matrix.\n",
      "Computing the msd similarity matrix...\n",
      "Done computing similarity matrix.\n",
      "Computing the msd similarity matrix...\n",
      "Done computing similarity matrix.\n",
      "Computing the msd similarity matrix...\n",
      "Done computing similarity matrix.\n",
      "Computing the msd similarity matrix...\n",
      "Done computing similarity matrix.\n",
      "                    test_rmse  fit_time  test_time\n",
      "Algorithm                                         \n",
      "Kvalue_25_KNNBasic   0.986922  0.875694  14.079732\n",
      "Kvalue_20_KNNBasic   0.989092  0.877380  12.540127\n",
      "Kvalue_15_KNNBasic   0.989497  0.763421  11.358664\n",
      "Kvalue_10_KNNBasic   1.001727  0.782856   9.733818\n",
      "Kvalue_5_KNNBasic    1.038507  0.877029   8.980103\n",
      "min_rmse: 0.9869223017217094\n"
     ]
    }
   ],
   "source": [
    "#ques 15 part a\n",
    "benchmark = []\n",
    "import matplotlib.pyplot as plt\n",
    "name=''\n",
    "init_seed = 0\n",
    "random.seed(init_seed)\n",
    "np.random.seed(init_seed)\n",
    "k=(5,10,15,20,25)\n",
    "for kvalue in k:\n",
    "# Iterate over all algorithms\n",
    "    for algorithm in [(KNNBasic(k=kvalue, sim_options = {'name':'MSD', 'user_based': True }))]:\n",
    "    \n",
    "       \n",
    "    # Perform cross validation\n",
    "        results = cross_validate(algorithm, data, measures=['RMSE'], cv=3, verbose=False)\n",
    "    # Get results & append algorithm name\n",
    "        tmp = pd.DataFrame.from_dict(results).mean(axis=0)\n",
    "        tmp = tmp.append(pd.Series([\"Kvalue_\"+str(kvalue)+('_')+str(algorithm).split(' ')[0].split('.')[-1]], index=['Algorithm']))\n",
    "        benchmark.append(tmp)\n",
    "        \n",
    "    \n",
    "data1=pd.DataFrame(benchmark).set_index('Algorithm').sort_values('test_rmse')\n",
    "print(data1)\n",
    "userbased_min_rmse=min(data1.test_rmse)\n",
    "print(\"min_rmse:\",userbased_min_rmse)"
   ]
  },
  {
   "cell_type": "code",
   "execution_count": 67,
   "metadata": {},
   "outputs": [
    {
     "name": "stdout",
     "output_type": "stream",
     "text": [
      "kvalue 5\n",
      "Computing the msd similarity matrix...\n",
      "Done computing similarity matrix.\n",
      "Computing the msd similarity matrix...\n",
      "Done computing similarity matrix.\n",
      "Computing the msd similarity matrix...\n",
      "Done computing similarity matrix.\n",
      "kvalue 5\n",
      "kvalue 10\n",
      "Computing the msd similarity matrix...\n",
      "Done computing similarity matrix.\n",
      "Computing the msd similarity matrix...\n",
      "Done computing similarity matrix.\n",
      "Computing the msd similarity matrix...\n",
      "Done computing similarity matrix.\n",
      "kvalue 10\n",
      "kvalue 15\n",
      "Computing the msd similarity matrix...\n",
      "Done computing similarity matrix.\n",
      "Computing the msd similarity matrix...\n",
      "Done computing similarity matrix.\n",
      "Computing the msd similarity matrix...\n",
      "Done computing similarity matrix.\n",
      "kvalue 15\n",
      "kvalue 20\n",
      "Computing the msd similarity matrix...\n",
      "Done computing similarity matrix.\n",
      "Computing the msd similarity matrix...\n",
      "Done computing similarity matrix.\n",
      "Computing the msd similarity matrix...\n",
      "Done computing similarity matrix.\n",
      "kvalue 20\n",
      "kvalue 25\n",
      "Computing the msd similarity matrix...\n",
      "Done computing similarity matrix.\n",
      "Computing the msd similarity matrix...\n",
      "Done computing similarity matrix.\n",
      "Computing the msd similarity matrix...\n",
      "Done computing similarity matrix.\n",
      "kvalue 25\n",
      "                    test_rmse  fit_time  test_time\n",
      "Algorithm                                         \n",
      "Kvalue_25_KNNBasic   0.988179  1.202216  15.154374\n",
      "Kvalue_20_KNNBasic   0.994724  1.170843  15.052774\n",
      "Kvalue_15_KNNBasic   1.003304  1.187931  13.424552\n",
      "Kvalue_10_KNNBasic   1.024041  1.212353  11.960726\n",
      "Kvalue_5_KNNBasic    1.084888  1.225102  11.568807\n",
      "min_rmse: 0.9881786120683068\n"
     ]
    }
   ],
   "source": [
    "# Ques 15 part b\n",
    "benchmark = []\n",
    "import matplotlib.pyplot as plt\n",
    "name=''\n",
    "init_seed = 0\n",
    "random.seed(init_seed)\n",
    "np.random.seed(init_seed)\n",
    "k=(5,10,15,20,25)\n",
    "for kvalue in k:\n",
    "# Iterate over all algorithms\n",
    "    for algorithm in [(KNNBasic(k=kvalue, sim_options = {'name':'MSD', 'user_based': False }))]:\n",
    "        print(\"kvalue\",kvalue)\n",
    "       #str(kvalue)+('_')+\n",
    "    # Perform cross validation\n",
    "        results = cross_validate(algorithm, data, measures=['RMSE'], cv=3, verbose=False)\n",
    "    # Get results & append algorithm name\n",
    "        tmp = pd.DataFrame.from_dict(results).mean(axis=0)\n",
    "        tmp = tmp.append(pd.Series([\"Kvalue_\"+str(kvalue)+('_')+str(algorithm).split(' ')[0].split('.')[-1]], index=['Algorithm']))\n",
    "        print(\"kvalue\",kvalue)\n",
    "        benchmark.append(tmp)\n",
    "    \n",
    "data2=pd.DataFrame(benchmark).set_index('Algorithm').sort_values('test_rmse')\n",
    "print(data2)\n",
    "itembased_min_rmse=min(data2.test_rmse)\n",
    "print(\"min_rmse:\",itembased_min_rmse)\n"
   ]
  },
  {
   "cell_type": "code",
   "execution_count": 68,
   "metadata": {},
   "outputs": [
    {
     "data": {
      "image/png": "[encoded data removed]",
      "text/plain": [
       "<Figure size 432x288 with 2 Axes>"
      ]
     },
     "metadata": {
      "needs_background": "light"
     },
     "output_type": "display_data"
    }
   ],
   "source": [
    "import numpy as np\n",
    "x = np.arange(5)\n",
    "ax1 = plt.subplot(1,1,1)\n",
    "k=(25,20,15,10,5)\n",
    "w = 0.2\n",
    "plt.xticks(x + w /2,k,rotation='vertical')\n",
    "user_based =ax1.bar(x,data1.test_rmse,width=w, color='b', align='center')\n",
    "ax2 = ax1.twinx()\n",
    "item_based =ax2.bar(x + w,data2.test_rmse, width=w,color='g',align='center')\n",
    "plt.ylabel('RMSE')\n",
    "plt.legend([user_based, item_based],['User Based RMSE', 'Item Based RMSE'],bbox_to_anchor=(1,1), loc=\"upper left\")\n",
    "plt.title('RMSE values for different K')\n",
    "plt.show()\n",
    "\n",
    "#plt.savefig(\"C:/Users/shrut/Documents/MachineLearning/HW7/RMSE_K_Values.png\")"
   ]
  },
  {
   "cell_type": "code",
   "execution_count": null,
   "metadata": {},
   "outputs": [],
   "source": []
  },
  {
   "cell_type": "code",
   "execution_count": null,
   "metadata": {},
   "outputs": [],
   "source": []
  },
  {
   "cell_type": "code",
   "execution_count": null,
   "metadata": {},
   "outputs": [],
   "source": []
  },
  {
   "cell_type": "code",
   "execution_count": null,
   "metadata": {},
   "outputs": [],
   "source": []
  },
  {
   "cell_type": "code",
   "execution_count": null,
   "metadata": {},
   "outputs": [],
   "source": []
  },
  {
   "cell_type": "code",
   "execution_count": null,
   "metadata": {},
   "outputs": [],
   "source": []
  },
  {
   "cell_type": "code",
   "execution_count": null,
   "metadata": {},
   "outputs": [],
   "source": []
  }
 ],
 "metadata": {
  "kernelspec": {
   "display_name": "Python 3",
   "language": "python",
   "name": "python3"
  },
  "language_info": {
   "codemirror_mode": {
    "name": "ipython",
    "version": 3
   },
   "file_extension": ".py",
   "mimetype": "text/x-python",
   "name": "python",
   "nbconvert_exporter": "python",
   "pygments_lexer": "ipython3",
   "version": "3.7.4"
  }
 },
 "nbformat": 4,
 "nbformat_minor": 2
}
